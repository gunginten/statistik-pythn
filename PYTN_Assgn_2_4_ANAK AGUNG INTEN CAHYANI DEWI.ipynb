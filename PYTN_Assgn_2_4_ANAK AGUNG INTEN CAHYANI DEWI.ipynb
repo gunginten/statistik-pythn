{
 "cells": [
  {
   "cell_type": "code",
   "execution_count": 1,
   "metadata": {},
   "outputs": [],
   "source": [
    "import numpy as np\n",
    "import pandas as pd"
   ]
  },
  {
   "cell_type": "code",
   "execution_count": 2,
   "metadata": {},
   "outputs": [],
   "source": [
    "!conda install -c anaconda xlrd --yes"
   ]
  },
  {
   "cell_type": "code",
   "execution_count": 3,
   "metadata": {},
   "outputs": [
    {
     "name": "stdout",
     "output_type": "stream",
     "text": [
      "Requirement already satisfied: xlrd in c:\\users\\prima\\appdata\\local\\programs\\python\\python310\\lib\\site-packages (2.0.1)\n",
      "Note: you may need to restart the kernel to use updated packages.\n"
     ]
    },
    {
     "name": "stderr",
     "output_type": "stream",
     "text": [
      "\n",
      "[notice] A new release of pip is available: 23.0.1 -> 23.1.2\n",
      "[notice] To update, run: python.exe -m pip install --upgrade pip\n"
     ]
    }
   ],
   "source": [
    "pip install xlrd"
   ]
  },
  {
   "cell_type": "code",
   "execution_count": 4,
   "metadata": {},
   "outputs": [
    {
     "name": "stdout",
     "output_type": "stream",
     "text": [
      "Requirement already satisfied: openpyxl in c:\\users\\prima\\appdata\\local\\programs\\python\\python310\\lib\\site-packages (3.1.2)\n",
      "Requirement already satisfied: et-xmlfile in c:\\users\\prima\\appdata\\local\\programs\\python\\python310\\lib\\site-packages (from openpyxl) (1.1.0)\n",
      "Note: you may need to restart the kernel to use updated packages.\n"
     ]
    },
    {
     "name": "stderr",
     "output_type": "stream",
     "text": [
      "\n",
      "[notice] A new release of pip is available: 23.0.1 -> 23.1.2\n",
      "[notice] To update, run: python.exe -m pip install --upgrade pip\n"
     ]
    }
   ],
   "source": [
    "pip install openpyxl"
   ]
  },
  {
   "cell_type": "code",
   "execution_count": 5,
   "metadata": {},
   "outputs": [
    {
     "name": "stdout",
     "output_type": "stream",
     "text": [
      "Data read into a pandas dataframe!\n"
     ]
    }
   ],
   "source": [
    "df_c = pd.read_csv(r'C:\\\\Users\\PRIMA\\Downloads\\archive 2\\nyc-rolling-sales.csv')\n",
    "\n",
    "                  \n",
    "print ('Data read into a pandas dataframe!')"
   ]
  },
  {
   "cell_type": "code",
   "execution_count": 6,
   "metadata": {},
   "outputs": [
    {
     "data": {
      "text/html": [
       "<div>\n",
       "<style scoped>\n",
       "    .dataframe tbody tr th:only-of-type {\n",
       "        vertical-align: middle;\n",
       "    }\n",
       "\n",
       "    .dataframe tbody tr th {\n",
       "        vertical-align: top;\n",
       "    }\n",
       "\n",
       "    .dataframe thead th {\n",
       "        text-align: right;\n",
       "    }\n",
       "</style>\n",
       "<table border=\"1\" class=\"dataframe\">\n",
       "  <thead>\n",
       "    <tr style=\"text-align: right;\">\n",
       "      <th></th>\n",
       "      <th>Unnamed: 0</th>\n",
       "      <th>BOROUGH</th>\n",
       "      <th>NEIGHBORHOOD</th>\n",
       "      <th>BUILDING CLASS CATEGORY</th>\n",
       "      <th>TAX CLASS AT PRESENT</th>\n",
       "      <th>BLOCK</th>\n",
       "      <th>LOT</th>\n",
       "      <th>EASE-MENT</th>\n",
       "      <th>BUILDING CLASS AT PRESENT</th>\n",
       "      <th>ADDRESS</th>\n",
       "      <th>...</th>\n",
       "      <th>RESIDENTIAL UNITS</th>\n",
       "      <th>COMMERCIAL UNITS</th>\n",
       "      <th>TOTAL UNITS</th>\n",
       "      <th>LAND SQUARE FEET</th>\n",
       "      <th>GROSS SQUARE FEET</th>\n",
       "      <th>YEAR BUILT</th>\n",
       "      <th>TAX CLASS AT TIME OF SALE</th>\n",
       "      <th>BUILDING CLASS AT TIME OF SALE</th>\n",
       "      <th>SALE PRICE</th>\n",
       "      <th>SALE DATE</th>\n",
       "    </tr>\n",
       "  </thead>\n",
       "  <tbody>\n",
       "    <tr>\n",
       "      <th>0</th>\n",
       "      <td>4</td>\n",
       "      <td>1</td>\n",
       "      <td>ALPHABET CITY</td>\n",
       "      <td>07 RENTALS - WALKUP APARTMENTS</td>\n",
       "      <td>2A</td>\n",
       "      <td>392</td>\n",
       "      <td>6</td>\n",
       "      <td></td>\n",
       "      <td>C2</td>\n",
       "      <td>153 AVENUE B</td>\n",
       "      <td>...</td>\n",
       "      <td>5</td>\n",
       "      <td>0</td>\n",
       "      <td>5</td>\n",
       "      <td>1633</td>\n",
       "      <td>6440</td>\n",
       "      <td>1900</td>\n",
       "      <td>2</td>\n",
       "      <td>C2</td>\n",
       "      <td>6625000</td>\n",
       "      <td>2017-07-19 00:00:00</td>\n",
       "    </tr>\n",
       "    <tr>\n",
       "      <th>1</th>\n",
       "      <td>5</td>\n",
       "      <td>1</td>\n",
       "      <td>ALPHABET CITY</td>\n",
       "      <td>07 RENTALS - WALKUP APARTMENTS</td>\n",
       "      <td>2</td>\n",
       "      <td>399</td>\n",
       "      <td>26</td>\n",
       "      <td></td>\n",
       "      <td>C7</td>\n",
       "      <td>234 EAST 4TH   STREET</td>\n",
       "      <td>...</td>\n",
       "      <td>28</td>\n",
       "      <td>3</td>\n",
       "      <td>31</td>\n",
       "      <td>4616</td>\n",
       "      <td>18690</td>\n",
       "      <td>1900</td>\n",
       "      <td>2</td>\n",
       "      <td>C7</td>\n",
       "      <td>-</td>\n",
       "      <td>2016-12-14 00:00:00</td>\n",
       "    </tr>\n",
       "    <tr>\n",
       "      <th>2</th>\n",
       "      <td>6</td>\n",
       "      <td>1</td>\n",
       "      <td>ALPHABET CITY</td>\n",
       "      <td>07 RENTALS - WALKUP APARTMENTS</td>\n",
       "      <td>2</td>\n",
       "      <td>399</td>\n",
       "      <td>39</td>\n",
       "      <td></td>\n",
       "      <td>C7</td>\n",
       "      <td>197 EAST 3RD   STREET</td>\n",
       "      <td>...</td>\n",
       "      <td>16</td>\n",
       "      <td>1</td>\n",
       "      <td>17</td>\n",
       "      <td>2212</td>\n",
       "      <td>7803</td>\n",
       "      <td>1900</td>\n",
       "      <td>2</td>\n",
       "      <td>C7</td>\n",
       "      <td>-</td>\n",
       "      <td>2016-12-09 00:00:00</td>\n",
       "    </tr>\n",
       "    <tr>\n",
       "      <th>3</th>\n",
       "      <td>7</td>\n",
       "      <td>1</td>\n",
       "      <td>ALPHABET CITY</td>\n",
       "      <td>07 RENTALS - WALKUP APARTMENTS</td>\n",
       "      <td>2B</td>\n",
       "      <td>402</td>\n",
       "      <td>21</td>\n",
       "      <td></td>\n",
       "      <td>C4</td>\n",
       "      <td>154 EAST 7TH STREET</td>\n",
       "      <td>...</td>\n",
       "      <td>10</td>\n",
       "      <td>0</td>\n",
       "      <td>10</td>\n",
       "      <td>2272</td>\n",
       "      <td>6794</td>\n",
       "      <td>1913</td>\n",
       "      <td>2</td>\n",
       "      <td>C4</td>\n",
       "      <td>3936272</td>\n",
       "      <td>2016-09-23 00:00:00</td>\n",
       "    </tr>\n",
       "    <tr>\n",
       "      <th>4</th>\n",
       "      <td>8</td>\n",
       "      <td>1</td>\n",
       "      <td>ALPHABET CITY</td>\n",
       "      <td>07 RENTALS - WALKUP APARTMENTS</td>\n",
       "      <td>2A</td>\n",
       "      <td>404</td>\n",
       "      <td>55</td>\n",
       "      <td></td>\n",
       "      <td>C2</td>\n",
       "      <td>301 EAST 10TH   STREET</td>\n",
       "      <td>...</td>\n",
       "      <td>6</td>\n",
       "      <td>0</td>\n",
       "      <td>6</td>\n",
       "      <td>2369</td>\n",
       "      <td>4615</td>\n",
       "      <td>1900</td>\n",
       "      <td>2</td>\n",
       "      <td>C2</td>\n",
       "      <td>8000000</td>\n",
       "      <td>2016-11-17 00:00:00</td>\n",
       "    </tr>\n",
       "    <tr>\n",
       "      <th>...</th>\n",
       "      <td>...</td>\n",
       "      <td>...</td>\n",
       "      <td>...</td>\n",
       "      <td>...</td>\n",
       "      <td>...</td>\n",
       "      <td>...</td>\n",
       "      <td>...</td>\n",
       "      <td>...</td>\n",
       "      <td>...</td>\n",
       "      <td>...</td>\n",
       "      <td>...</td>\n",
       "      <td>...</td>\n",
       "      <td>...</td>\n",
       "      <td>...</td>\n",
       "      <td>...</td>\n",
       "      <td>...</td>\n",
       "      <td>...</td>\n",
       "      <td>...</td>\n",
       "      <td>...</td>\n",
       "      <td>...</td>\n",
       "      <td>...</td>\n",
       "    </tr>\n",
       "    <tr>\n",
       "      <th>84543</th>\n",
       "      <td>8409</td>\n",
       "      <td>5</td>\n",
       "      <td>WOODROW</td>\n",
       "      <td>02 TWO FAMILY DWELLINGS</td>\n",
       "      <td>1</td>\n",
       "      <td>7349</td>\n",
       "      <td>34</td>\n",
       "      <td></td>\n",
       "      <td>B9</td>\n",
       "      <td>37 QUAIL LANE</td>\n",
       "      <td>...</td>\n",
       "      <td>2</td>\n",
       "      <td>0</td>\n",
       "      <td>2</td>\n",
       "      <td>2400</td>\n",
       "      <td>2575</td>\n",
       "      <td>1998</td>\n",
       "      <td>1</td>\n",
       "      <td>B9</td>\n",
       "      <td>450000</td>\n",
       "      <td>2016-11-28 00:00:00</td>\n",
       "    </tr>\n",
       "    <tr>\n",
       "      <th>84544</th>\n",
       "      <td>8410</td>\n",
       "      <td>5</td>\n",
       "      <td>WOODROW</td>\n",
       "      <td>02 TWO FAMILY DWELLINGS</td>\n",
       "      <td>1</td>\n",
       "      <td>7349</td>\n",
       "      <td>78</td>\n",
       "      <td></td>\n",
       "      <td>B9</td>\n",
       "      <td>32 PHEASANT LANE</td>\n",
       "      <td>...</td>\n",
       "      <td>2</td>\n",
       "      <td>0</td>\n",
       "      <td>2</td>\n",
       "      <td>2498</td>\n",
       "      <td>2377</td>\n",
       "      <td>1998</td>\n",
       "      <td>1</td>\n",
       "      <td>B9</td>\n",
       "      <td>550000</td>\n",
       "      <td>2017-04-21 00:00:00</td>\n",
       "    </tr>\n",
       "    <tr>\n",
       "      <th>84545</th>\n",
       "      <td>8411</td>\n",
       "      <td>5</td>\n",
       "      <td>WOODROW</td>\n",
       "      <td>02 TWO FAMILY DWELLINGS</td>\n",
       "      <td>1</td>\n",
       "      <td>7351</td>\n",
       "      <td>60</td>\n",
       "      <td></td>\n",
       "      <td>B2</td>\n",
       "      <td>49 PITNEY AVENUE</td>\n",
       "      <td>...</td>\n",
       "      <td>2</td>\n",
       "      <td>0</td>\n",
       "      <td>2</td>\n",
       "      <td>4000</td>\n",
       "      <td>1496</td>\n",
       "      <td>1925</td>\n",
       "      <td>1</td>\n",
       "      <td>B2</td>\n",
       "      <td>460000</td>\n",
       "      <td>2017-07-05 00:00:00</td>\n",
       "    </tr>\n",
       "    <tr>\n",
       "      <th>84546</th>\n",
       "      <td>8412</td>\n",
       "      <td>5</td>\n",
       "      <td>WOODROW</td>\n",
       "      <td>22 STORE BUILDINGS</td>\n",
       "      <td>4</td>\n",
       "      <td>7100</td>\n",
       "      <td>28</td>\n",
       "      <td></td>\n",
       "      <td>K6</td>\n",
       "      <td>2730 ARTHUR KILL ROAD</td>\n",
       "      <td>...</td>\n",
       "      <td>0</td>\n",
       "      <td>7</td>\n",
       "      <td>7</td>\n",
       "      <td>208033</td>\n",
       "      <td>64117</td>\n",
       "      <td>2001</td>\n",
       "      <td>4</td>\n",
       "      <td>K6</td>\n",
       "      <td>11693337</td>\n",
       "      <td>2016-12-21 00:00:00</td>\n",
       "    </tr>\n",
       "    <tr>\n",
       "      <th>84547</th>\n",
       "      <td>8413</td>\n",
       "      <td>5</td>\n",
       "      <td>WOODROW</td>\n",
       "      <td>35 INDOOR PUBLIC AND CULTURAL FACILITIES</td>\n",
       "      <td>4</td>\n",
       "      <td>7105</td>\n",
       "      <td>679</td>\n",
       "      <td></td>\n",
       "      <td>P9</td>\n",
       "      <td>155 CLAY PIT ROAD</td>\n",
       "      <td>...</td>\n",
       "      <td>0</td>\n",
       "      <td>1</td>\n",
       "      <td>1</td>\n",
       "      <td>10796</td>\n",
       "      <td>2400</td>\n",
       "      <td>2006</td>\n",
       "      <td>4</td>\n",
       "      <td>P9</td>\n",
       "      <td>69300</td>\n",
       "      <td>2016-10-27 00:00:00</td>\n",
       "    </tr>\n",
       "  </tbody>\n",
       "</table>\n",
       "<p>84548 rows × 22 columns</p>\n",
       "</div>"
      ],
      "text/plain": [
       "       Unnamed: 0  BOROUGH   NEIGHBORHOOD  \\\n",
       "0               4        1  ALPHABET CITY   \n",
       "1               5        1  ALPHABET CITY   \n",
       "2               6        1  ALPHABET CITY   \n",
       "3               7        1  ALPHABET CITY   \n",
       "4               8        1  ALPHABET CITY   \n",
       "...           ...      ...            ...   \n",
       "84543        8409        5        WOODROW   \n",
       "84544        8410        5        WOODROW   \n",
       "84545        8411        5        WOODROW   \n",
       "84546        8412        5        WOODROW   \n",
       "84547        8413        5        WOODROW   \n",
       "\n",
       "                           BUILDING CLASS CATEGORY TAX CLASS AT PRESENT  \\\n",
       "0      07 RENTALS - WALKUP APARTMENTS                                2A   \n",
       "1      07 RENTALS - WALKUP APARTMENTS                                 2   \n",
       "2      07 RENTALS - WALKUP APARTMENTS                                 2   \n",
       "3      07 RENTALS - WALKUP APARTMENTS                                2B   \n",
       "4      07 RENTALS - WALKUP APARTMENTS                                2A   \n",
       "...                                            ...                  ...   \n",
       "84543  02 TWO FAMILY DWELLINGS                                        1   \n",
       "84544  02 TWO FAMILY DWELLINGS                                        1   \n",
       "84545  02 TWO FAMILY DWELLINGS                                        1   \n",
       "84546  22 STORE BUILDINGS                                             4   \n",
       "84547  35 INDOOR PUBLIC AND CULTURAL FACILITIES                       4   \n",
       "\n",
       "       BLOCK  LOT EASE-MENT BUILDING CLASS AT PRESENT                 ADDRESS  \\\n",
       "0        392    6                                  C2            153 AVENUE B   \n",
       "1        399   26                                  C7   234 EAST 4TH   STREET   \n",
       "2        399   39                                  C7   197 EAST 3RD   STREET   \n",
       "3        402   21                                  C4     154 EAST 7TH STREET   \n",
       "4        404   55                                  C2  301 EAST 10TH   STREET   \n",
       "...      ...  ...       ...                       ...                     ...   \n",
       "84543   7349   34                                  B9           37 QUAIL LANE   \n",
       "84544   7349   78                                  B9        32 PHEASANT LANE   \n",
       "84545   7351   60                                  B2        49 PITNEY AVENUE   \n",
       "84546   7100   28                                  K6   2730 ARTHUR KILL ROAD   \n",
       "84547   7105  679                                  P9       155 CLAY PIT ROAD   \n",
       "\n",
       "       ... RESIDENTIAL UNITS  COMMERCIAL UNITS  TOTAL UNITS  LAND SQUARE FEET  \\\n",
       "0      ...                 5                 0            5              1633   \n",
       "1      ...                28                 3           31              4616   \n",
       "2      ...                16                 1           17              2212   \n",
       "3      ...                10                 0           10              2272   \n",
       "4      ...                 6                 0            6              2369   \n",
       "...    ...               ...               ...          ...               ...   \n",
       "84543  ...                 2                 0            2              2400   \n",
       "84544  ...                 2                 0            2              2498   \n",
       "84545  ...                 2                 0            2              4000   \n",
       "84546  ...                 0                 7            7            208033   \n",
       "84547  ...                 0                 1            1             10796   \n",
       "\n",
       "       GROSS SQUARE FEET YEAR BUILT TAX CLASS AT TIME OF SALE  \\\n",
       "0                   6440       1900                         2   \n",
       "1                  18690       1900                         2   \n",
       "2                   7803       1900                         2   \n",
       "3                   6794       1913                         2   \n",
       "4                   4615       1900                         2   \n",
       "...                  ...        ...                       ...   \n",
       "84543               2575       1998                         1   \n",
       "84544               2377       1998                         1   \n",
       "84545               1496       1925                         1   \n",
       "84546              64117       2001                         4   \n",
       "84547               2400       2006                         4   \n",
       "\n",
       "       BUILDING CLASS AT TIME OF SALE  SALE PRICE            SALE DATE  \n",
       "0                                  C2     6625000  2017-07-19 00:00:00  \n",
       "1                                  C7         -    2016-12-14 00:00:00  \n",
       "2                                  C7         -    2016-12-09 00:00:00  \n",
       "3                                  C4     3936272  2016-09-23 00:00:00  \n",
       "4                                  C2     8000000  2016-11-17 00:00:00  \n",
       "...                               ...         ...                  ...  \n",
       "84543                              B9      450000  2016-11-28 00:00:00  \n",
       "84544                              B9      550000  2017-04-21 00:00:00  \n",
       "84545                              B2      460000  2017-07-05 00:00:00  \n",
       "84546                              K6    11693337  2016-12-21 00:00:00  \n",
       "84547                              P9       69300  2016-10-27 00:00:00  \n",
       "\n",
       "[84548 rows x 22 columns]"
      ]
     },
     "execution_count": 6,
     "metadata": {},
     "output_type": "execute_result"
    }
   ],
   "source": [
    "df_c"
   ]
  },
  {
   "cell_type": "code",
   "execution_count": 7,
   "metadata": {},
   "outputs": [
    {
     "data": {
      "text/plain": [
       "array([    0,     1,     2, ..., 84545, 84546, 84547], dtype=int64)"
      ]
     },
     "execution_count": 7,
     "metadata": {},
     "output_type": "execute_result"
    }
   ],
   "source": [
    "df_c.index.values"
   ]
  },
  {
   "cell_type": "code",
   "execution_count": 8,
   "metadata": {},
   "outputs": [
    {
     "name": "stdout",
     "output_type": "stream",
     "text": [
      "<class 'pandas.core.frame.DataFrame'>\n",
      "RangeIndex: 84548 entries, 0 to 84547\n",
      "Data columns (total 22 columns):\n",
      " #   Column                          Non-Null Count  Dtype \n",
      "---  ------                          --------------  ----- \n",
      " 0   Unnamed: 0                      84548 non-null  int64 \n",
      " 1   BOROUGH                         84548 non-null  int64 \n",
      " 2   NEIGHBORHOOD                    84548 non-null  object\n",
      " 3   BUILDING CLASS CATEGORY         84548 non-null  object\n",
      " 4   TAX CLASS AT PRESENT            84548 non-null  object\n",
      " 5   BLOCK                           84548 non-null  int64 \n",
      " 6   LOT                             84548 non-null  int64 \n",
      " 7   EASE-MENT                       84548 non-null  object\n",
      " 8   BUILDING CLASS AT PRESENT       84548 non-null  object\n",
      " 9   ADDRESS                         84548 non-null  object\n",
      " 10  APARTMENT NUMBER                84548 non-null  object\n",
      " 11  ZIP CODE                        84548 non-null  int64 \n",
      " 12  RESIDENTIAL UNITS               84548 non-null  int64 \n",
      " 13  COMMERCIAL UNITS                84548 non-null  int64 \n",
      " 14  TOTAL UNITS                     84548 non-null  int64 \n",
      " 15  LAND SQUARE FEET                84548 non-null  object\n",
      " 16  GROSS SQUARE FEET               84548 non-null  object\n",
      " 17  YEAR BUILT                      84548 non-null  int64 \n",
      " 18  TAX CLASS AT TIME OF SALE       84548 non-null  int64 \n",
      " 19  BUILDING CLASS AT TIME OF SALE  84548 non-null  object\n",
      " 20  SALE PRICE                      84548 non-null  object\n",
      " 21  SALE DATE                       84548 non-null  object\n",
      "dtypes: int64(10), object(12)\n",
      "memory usage: 14.2+ MB\n"
     ]
    }
   ],
   "source": [
    "df_c.info()"
   ]
  },
  {
   "cell_type": "code",
   "execution_count": 9,
   "metadata": {},
   "outputs": [
    {
     "data": {
      "text/plain": [
       "array(['Unnamed: 0', 'BOROUGH', 'NEIGHBORHOOD', 'BUILDING CLASS CATEGORY',\n",
       "       'TAX CLASS AT PRESENT', 'BLOCK', 'LOT', 'EASE-MENT',\n",
       "       'BUILDING CLASS AT PRESENT', 'ADDRESS', 'APARTMENT NUMBER',\n",
       "       'ZIP CODE', 'RESIDENTIAL UNITS', 'COMMERCIAL UNITS', 'TOTAL UNITS',\n",
       "       'LAND SQUARE FEET', 'GROSS SQUARE FEET', 'YEAR BUILT',\n",
       "       'TAX CLASS AT TIME OF SALE', 'BUILDING CLASS AT TIME OF SALE',\n",
       "       'SALE PRICE', 'SALE DATE'], dtype=object)"
      ]
     },
     "execution_count": 9,
     "metadata": {},
     "output_type": "execute_result"
    }
   ],
   "source": [
    "df_c.columns.values"
   ]
  },
  {
   "cell_type": "code",
   "execution_count": 10,
   "metadata": {},
   "outputs": [
    {
     "data": {
      "text/plain": [
       "(84548, 22)"
      ]
     },
     "execution_count": 10,
     "metadata": {},
     "output_type": "execute_result"
    }
   ],
   "source": [
    "df_c.shape"
   ]
  },
  {
   "cell_type": "code",
   "execution_count": 11,
   "metadata": {},
   "outputs": [],
   "source": [
    "df = df_c[['BOROUGH', 'BLOCK', 'LOT', 'RESIDENTIAL UNITS', 'COMMERCIAL UNITS', 'TOTAL UNITS', 'YEAR BUILT', 'SALE PRICE']]"
   ]
  },
  {
   "cell_type": "code",
   "execution_count": 12,
   "metadata": {},
   "outputs": [
    {
     "data": {
      "text/html": [
       "<div>\n",
       "<style scoped>\n",
       "    .dataframe tbody tr th:only-of-type {\n",
       "        vertical-align: middle;\n",
       "    }\n",
       "\n",
       "    .dataframe tbody tr th {\n",
       "        vertical-align: top;\n",
       "    }\n",
       "\n",
       "    .dataframe thead th {\n",
       "        text-align: right;\n",
       "    }\n",
       "</style>\n",
       "<table border=\"1\" class=\"dataframe\">\n",
       "  <thead>\n",
       "    <tr style=\"text-align: right;\">\n",
       "      <th></th>\n",
       "      <th>BOROUGH</th>\n",
       "      <th>BLOCK</th>\n",
       "      <th>LOT</th>\n",
       "      <th>RESIDENTIAL UNITS</th>\n",
       "      <th>COMMERCIAL UNITS</th>\n",
       "      <th>TOTAL UNITS</th>\n",
       "      <th>YEAR BUILT</th>\n",
       "      <th>SALE PRICE</th>\n",
       "    </tr>\n",
       "  </thead>\n",
       "  <tbody>\n",
       "    <tr>\n",
       "      <th>0</th>\n",
       "      <td>1</td>\n",
       "      <td>392</td>\n",
       "      <td>6</td>\n",
       "      <td>5</td>\n",
       "      <td>0</td>\n",
       "      <td>5</td>\n",
       "      <td>1900</td>\n",
       "      <td>6625000</td>\n",
       "    </tr>\n",
       "    <tr>\n",
       "      <th>1</th>\n",
       "      <td>1</td>\n",
       "      <td>399</td>\n",
       "      <td>26</td>\n",
       "      <td>28</td>\n",
       "      <td>3</td>\n",
       "      <td>31</td>\n",
       "      <td>1900</td>\n",
       "      <td>-</td>\n",
       "    </tr>\n",
       "    <tr>\n",
       "      <th>2</th>\n",
       "      <td>1</td>\n",
       "      <td>399</td>\n",
       "      <td>39</td>\n",
       "      <td>16</td>\n",
       "      <td>1</td>\n",
       "      <td>17</td>\n",
       "      <td>1900</td>\n",
       "      <td>-</td>\n",
       "    </tr>\n",
       "    <tr>\n",
       "      <th>3</th>\n",
       "      <td>1</td>\n",
       "      <td>402</td>\n",
       "      <td>21</td>\n",
       "      <td>10</td>\n",
       "      <td>0</td>\n",
       "      <td>10</td>\n",
       "      <td>1913</td>\n",
       "      <td>3936272</td>\n",
       "    </tr>\n",
       "    <tr>\n",
       "      <th>4</th>\n",
       "      <td>1</td>\n",
       "      <td>404</td>\n",
       "      <td>55</td>\n",
       "      <td>6</td>\n",
       "      <td>0</td>\n",
       "      <td>6</td>\n",
       "      <td>1900</td>\n",
       "      <td>8000000</td>\n",
       "    </tr>\n",
       "    <tr>\n",
       "      <th>...</th>\n",
       "      <td>...</td>\n",
       "      <td>...</td>\n",
       "      <td>...</td>\n",
       "      <td>...</td>\n",
       "      <td>...</td>\n",
       "      <td>...</td>\n",
       "      <td>...</td>\n",
       "      <td>...</td>\n",
       "    </tr>\n",
       "    <tr>\n",
       "      <th>84543</th>\n",
       "      <td>5</td>\n",
       "      <td>7349</td>\n",
       "      <td>34</td>\n",
       "      <td>2</td>\n",
       "      <td>0</td>\n",
       "      <td>2</td>\n",
       "      <td>1998</td>\n",
       "      <td>450000</td>\n",
       "    </tr>\n",
       "    <tr>\n",
       "      <th>84544</th>\n",
       "      <td>5</td>\n",
       "      <td>7349</td>\n",
       "      <td>78</td>\n",
       "      <td>2</td>\n",
       "      <td>0</td>\n",
       "      <td>2</td>\n",
       "      <td>1998</td>\n",
       "      <td>550000</td>\n",
       "    </tr>\n",
       "    <tr>\n",
       "      <th>84545</th>\n",
       "      <td>5</td>\n",
       "      <td>7351</td>\n",
       "      <td>60</td>\n",
       "      <td>2</td>\n",
       "      <td>0</td>\n",
       "      <td>2</td>\n",
       "      <td>1925</td>\n",
       "      <td>460000</td>\n",
       "    </tr>\n",
       "    <tr>\n",
       "      <th>84546</th>\n",
       "      <td>5</td>\n",
       "      <td>7100</td>\n",
       "      <td>28</td>\n",
       "      <td>0</td>\n",
       "      <td>7</td>\n",
       "      <td>7</td>\n",
       "      <td>2001</td>\n",
       "      <td>11693337</td>\n",
       "    </tr>\n",
       "    <tr>\n",
       "      <th>84547</th>\n",
       "      <td>5</td>\n",
       "      <td>7105</td>\n",
       "      <td>679</td>\n",
       "      <td>0</td>\n",
       "      <td>1</td>\n",
       "      <td>1</td>\n",
       "      <td>2006</td>\n",
       "      <td>69300</td>\n",
       "    </tr>\n",
       "  </tbody>\n",
       "</table>\n",
       "<p>84548 rows × 8 columns</p>\n",
       "</div>"
      ],
      "text/plain": [
       "       BOROUGH  BLOCK  LOT  RESIDENTIAL UNITS  COMMERCIAL UNITS  TOTAL UNITS  \\\n",
       "0            1    392    6                  5                 0            5   \n",
       "1            1    399   26                 28                 3           31   \n",
       "2            1    399   39                 16                 1           17   \n",
       "3            1    402   21                 10                 0           10   \n",
       "4            1    404   55                  6                 0            6   \n",
       "...        ...    ...  ...                ...               ...          ...   \n",
       "84543        5   7349   34                  2                 0            2   \n",
       "84544        5   7349   78                  2                 0            2   \n",
       "84545        5   7351   60                  2                 0            2   \n",
       "84546        5   7100   28                  0                 7            7   \n",
       "84547        5   7105  679                  0                 1            1   \n",
       "\n",
       "       YEAR BUILT SALE PRICE  \n",
       "0            1900    6625000  \n",
       "1            1900        -    \n",
       "2            1900        -    \n",
       "3            1913    3936272  \n",
       "4            1900    8000000  \n",
       "...           ...        ...  \n",
       "84543        1998     450000  \n",
       "84544        1998     550000  \n",
       "84545        1925     460000  \n",
       "84546        2001   11693337  \n",
       "84547        2006      69300  \n",
       "\n",
       "[84548 rows x 8 columns]"
      ]
     },
     "execution_count": 12,
     "metadata": {},
     "output_type": "execute_result"
    }
   ],
   "source": [
    "df"
   ]
  },
  {
   "cell_type": "code",
   "execution_count": 13,
   "metadata": {},
   "outputs": [
    {
     "data": {
      "text/plain": [
       "dtype('O')"
      ]
     },
     "execution_count": 13,
     "metadata": {},
     "output_type": "execute_result"
    }
   ],
   "source": [
    "df['SALE PRICE'].dtypes"
   ]
  },
  {
   "cell_type": "code",
   "execution_count": 14,
   "metadata": {},
   "outputs": [
    {
     "data": {
      "text/plain": [
       "['6625000',\n",
       " ' -  ',\n",
       " '3936272',\n",
       " '8000000',\n",
       " '3192840',\n",
       " '16232000',\n",
       " '10350000',\n",
       " '1',\n",
       " '499000',\n",
       " '10',\n",
       " '529500',\n",
       " '423000',\n",
       " '501000',\n",
       " '450000',\n",
       " '510000',\n",
       " '350000',\n",
       " '11900000',\n",
       " '404000',\n",
       " '535000',\n",
       " '1400000',\n",
       " '866000',\n",
       " '355000',\n",
       " '805000',\n",
       " '475000',\n",
       " '810000',\n",
       " '300000',\n",
       " '579000',\n",
       " '1500000',\n",
       " '25000',\n",
       " '512000',\n",
       " '410000',\n",
       " '500000',\n",
       " '789019',\n",
       " '425000',\n",
       " '490000',\n",
       " '409000',\n",
       " '415000',\n",
       " '420000',\n",
       " '435000',\n",
       " '575000',\n",
       " '605000',\n",
       " '799000',\n",
       " '800000',\n",
       " '54993',\n",
       " '1475000',\n",
       " '335000',\n",
       " '750000',\n",
       " '780000',\n",
       " '2400000',\n",
       " '380000',\n",
       " '430000',\n",
       " '499900',\n",
       " '694000',\n",
       " '28000000',\n",
       " '8058923',\n",
       " '52625000',\n",
       " '620000',\n",
       " '762669',\n",
       " '772851',\n",
       " '1034880',\n",
       " '2295759',\n",
       " '875000',\n",
       " '701341',\n",
       " '753421',\n",
       " '771980',\n",
       " '1247356',\n",
       " '2150000',\n",
       " '550000',\n",
       " '1085000',\n",
       " '910000',\n",
       " '730000',\n",
       " '725000',\n",
       " '1300000',\n",
       " '770000',\n",
       " '1750000',\n",
       " '1150000',\n",
       " '2085000',\n",
       " '1680112',\n",
       " '1308451',\n",
       " '1863397',\n",
       " '1603743',\n",
       " '1781937',\n",
       " '1245000',\n",
       " '1200000',\n",
       " '1900000',\n",
       " '1800000',\n",
       " '1318633',\n",
       " '1385000',\n",
       " '1236300',\n",
       " '1934675',\n",
       " '1237000',\n",
       " '1461188',\n",
       " '1957475',\n",
       " '1221900',\n",
       " '2250000',\n",
       " '1495000',\n",
       " '1310000',\n",
       " '1250000',\n",
       " '2611811',\n",
       " '4159551',\n",
       " '1303360',\n",
       " '2392887',\n",
       " '1578287',\n",
       " '1400093',\n",
       " '4552375',\n",
       " '2385000',\n",
       " '1478499',\n",
       " '3300000',\n",
       " '7215000',\n",
       " '4750000',\n",
       " '735000',\n",
       " '3035000',\n",
       " '630000',\n",
       " '680000',\n",
       " '995000',\n",
       " '494500',\n",
       " '1875000',\n",
       " '2700000',\n",
       " '635000',\n",
       " '700000',\n",
       " '1100000',\n",
       " '485000',\n",
       " '1175000',\n",
       " '3700000',\n",
       " '10800000',\n",
       " '7425000',\n",
       " '7750000',\n",
       " '8300000',\n",
       " '2850000',\n",
       " '16000000',\n",
       " '5950000',\n",
       " '7375000',\n",
       " '14100000',\n",
       " '1583840',\n",
       " '416790',\n",
       " '630370',\n",
       " '29400000',\n",
       " '6450000',\n",
       " '5500000',\n",
       " '5750000',\n",
       " '3485000',\n",
       " '4600000',\n",
       " '2341975',\n",
       " '1835000',\n",
       " '1587500',\n",
       " '310000',\n",
       " '354500',\n",
       " '1425000',\n",
       " '705000',\n",
       " '2575000',\n",
       " '2200000',\n",
       " '1525000',\n",
       " '289000',\n",
       " '670000',\n",
       " '699000',\n",
       " '180000',\n",
       " '1237500',\n",
       " '592500',\n",
       " '311000',\n",
       " '560000',\n",
       " '2000000',\n",
       " '610000',\n",
       " '590000',\n",
       " '1700000',\n",
       " '441975',\n",
       " '617777',\n",
       " '644000',\n",
       " '367500',\n",
       " '282000',\n",
       " '710000',\n",
       " '1280000',\n",
       " '455000',\n",
       " '685000',\n",
       " '622500',\n",
       " '1350000',\n",
       " '999000',\n",
       " '690000',\n",
       " '470000',\n",
       " '434000',\n",
       " '640000',\n",
       " '440000',\n",
       " '625000',\n",
       " '1080000',\n",
       " '659000',\n",
       " '460000',\n",
       " '480000',\n",
       " '2495000',\n",
       " '1625000',\n",
       " '765000',\n",
       " '1775000',\n",
       " '2660000',\n",
       " '540000',\n",
       " '1375000',\n",
       " '827500',\n",
       " '582500',\n",
       " '950000',\n",
       " '583000',\n",
       " '880000',\n",
       " '2450000',\n",
       " '732500',\n",
       " '518000',\n",
       " '1215000',\n",
       " '775000',\n",
       " '900000',\n",
       " '850000',\n",
       " '655000',\n",
       " '790000',\n",
       " '639000',\n",
       " '452000',\n",
       " '932500',\n",
       " '980000',\n",
       " '701574',\n",
       " '979000',\n",
       " '661862',\n",
       " '835000',\n",
       " '1017000',\n",
       " '113692',\n",
       " '101164',\n",
       " '86231',\n",
       " '72260',\n",
       " '103640',\n",
       " '88332',\n",
       " '101726',\n",
       " '116447',\n",
       " '87346',\n",
       " '86712',\n",
       " '144521',\n",
       " '137150',\n",
       " '118280',\n",
       " '114975',\n",
       " '129347',\n",
       " '100603',\n",
       " '785000',\n",
       " '915000',\n",
       " '849000',\n",
       " '495846',\n",
       " '1225000',\n",
       " '1115000',\n",
       " '1260000',\n",
       " '1195000',\n",
       " '1075000',\n",
       " '267701',\n",
       " '284101',\n",
       " '207564',\n",
       " '289568',\n",
       " '218498',\n",
       " '530000',\n",
       " '677500',\n",
       " '469000',\n",
       " '1090000',\n",
       " '945000',\n",
       " '653000',\n",
       " '1535000',\n",
       " '975000',\n",
       " '1950000',\n",
       " '3850000',\n",
       " '905000',\n",
       " '890000',\n",
       " '520000',\n",
       " '1600000',\n",
       " '3051000',\n",
       " '1650000',\n",
       " '867500',\n",
       " '737500',\n",
       " '1111000',\n",
       " '981000',\n",
       " '1390000',\n",
       " '708000',\n",
       " '865000',\n",
       " '1275000',\n",
       " '615000',\n",
       " '939000',\n",
       " '545000',\n",
       " '527500',\n",
       " '1970000',\n",
       " '1450000',\n",
       " '1850000',\n",
       " '5000000',\n",
       " '1753000',\n",
       " '949000',\n",
       " '2075000',\n",
       " '6000000',\n",
       " '675000',\n",
       " '818750',\n",
       " '445000',\n",
       " '2275000',\n",
       " '839000',\n",
       " '1810000',\n",
       " '4815000',\n",
       " '433000',\n",
       " '1770000',\n",
       " '1645000',\n",
       " '997500',\n",
       " '210000',\n",
       " '2560000',\n",
       " '2650000',\n",
       " '826000',\n",
       " '2815000',\n",
       " '3699000',\n",
       " '3020000',\n",
       " '2600000',\n",
       " '7950000',\n",
       " '3210237',\n",
       " '5875000',\n",
       " '44105000',\n",
       " '4650000',\n",
       " '2685000',\n",
       " '15350000',\n",
       " '14650000',\n",
       " '2760000',\n",
       " '2853850',\n",
       " '2599287',\n",
       " '6315900',\n",
       " '6875937',\n",
       " '5959512',\n",
       " '10490725',\n",
       " '13435504',\n",
       " '10126700',\n",
       " '14563725',\n",
       " '10948937',\n",
       " '15139625',\n",
       " '12018100',\n",
       " '15887450',\n",
       " '11560349',\n",
       " '16466145',\n",
       " '12829362',\n",
       " '16905700',\n",
       " '13443650',\n",
       " '17809925',\n",
       " '13478450',\n",
       " '34623250',\n",
       " '33605000',\n",
       " '6300000',\n",
       " '2800000',\n",
       " '1340000',\n",
       " '1060000',\n",
       " '1035000',\n",
       " '1040000',\n",
       " '1045000',\n",
       " '1025000',\n",
       " '740000',\n",
       " '1210000',\n",
       " '1020000',\n",
       " '257068',\n",
       " '2900000',\n",
       " '2875000',\n",
       " '6500000',\n",
       " '4225000',\n",
       " '3750000',\n",
       " '1199000',\n",
       " '1255000',\n",
       " '2750000',\n",
       " '7165843',\n",
       " '4937073',\n",
       " '6033271',\n",
       " '6198750',\n",
       " '14504000',\n",
       " '4987833',\n",
       " '5191483',\n",
       " '6398500',\n",
       " '9366308',\n",
       " '5070293',\n",
       " '7250000',\n",
       " '10124043',\n",
       " '4700000',\n",
       " '4000000',\n",
       " '2175000',\n",
       " '4500000',\n",
       " '1180000',\n",
       " '1050000',\n",
       " '2735000',\n",
       " '3815000',\n",
       " '3000000',\n",
       " '1575000',\n",
       " '2657500',\n",
       " '2965000',\n",
       " '2395000',\n",
       " '1440000',\n",
       " '1222000',\n",
       " '775595',\n",
       " '3375000',\n",
       " '4250000',\n",
       " '925000',\n",
       " '1995000',\n",
       " '2350000',\n",
       " '3175000',\n",
       " '2125000',\n",
       " '2955000',\n",
       " '882000',\n",
       " '968000',\n",
       " '1145000',\n",
       " '1410000',\n",
       " '1820000',\n",
       " '388037',\n",
       " '525000',\n",
       " '820000',\n",
       " '1751390',\n",
       " '977500',\n",
       " '1325000',\n",
       " '5250000',\n",
       " '16900000',\n",
       " '14750000',\n",
       " '10000000',\n",
       " '17500000',\n",
       " '935000',\n",
       " '250000',\n",
       " '3025000',\n",
       " '3200000',\n",
       " '3500000',\n",
       " '3350000',\n",
       " '4450000',\n",
       " '2050000',\n",
       " '3060000',\n",
       " '2788000',\n",
       " '3100000',\n",
       " '5300000',\n",
       " '4550000',\n",
       " '3050000',\n",
       " '2562500',\n",
       " '2945000',\n",
       " '2550000',\n",
       " '3828219',\n",
       " '3400000',\n",
       " '2270000',\n",
       " '990000',\n",
       " '1725000',\n",
       " '2825000',\n",
       " '2163100',\n",
       " '1470000',\n",
       " '5193075',\n",
       " '2189238',\n",
       " '3864259',\n",
       " '1374638',\n",
       " '4327562',\n",
       " '3971175',\n",
       " '2507441',\n",
       " '1476462',\n",
       " '4276650',\n",
       " '4174825',\n",
       " '2485000',\n",
       " '1636836',\n",
       " '4480300',\n",
       " '2500000',\n",
       " '1629200',\n",
       " '4633038',\n",
       " '4429387',\n",
       " '1807393',\n",
       " '5103978',\n",
       " '4531212',\n",
       " '2749275',\n",
       " '11670000',\n",
       " '7835000',\n",
       " '7987500',\n",
       " '8335000',\n",
       " '205000',\n",
       " '1318000',\n",
       " '1010000',\n",
       " '3225000',\n",
       " '1015000',\n",
       " '1682500',\n",
       " '855000',\n",
       " '1915000',\n",
       " '1760000',\n",
       " '2835000',\n",
       " '2318000',\n",
       " '1515000',\n",
       " '495000',\n",
       " '1974000',\n",
       " '1519999',\n",
       " '2625000',\n",
       " '4900000',\n",
       " '1830000',\n",
       " '3540000',\n",
       " '3450000',\n",
       " '2015000',\n",
       " '2010000',\n",
       " '1570000',\n",
       " '1497500',\n",
       " '2225000',\n",
       " '2235000',\n",
       " '1615000',\n",
       " '2375000',\n",
       " '2615000',\n",
       " '1675000',\n",
       " '1680000',\n",
       " '1730000',\n",
       " '1155000',\n",
       " '2999000',\n",
       " '1508000',\n",
       " '10581818',\n",
       " '8250000',\n",
       " '13250000',\n",
       " '4582125',\n",
       " '4918147',\n",
       " '2443800',\n",
       " '2320000',\n",
       " '3680000',\n",
       " '2060500',\n",
       " '4100000',\n",
       " '3625000',\n",
       " '3900000',\n",
       " '9939120',\n",
       " '1037462',\n",
       " '585000',\n",
       " '712500',\n",
       " '3525000',\n",
       " '1205000',\n",
       " '595000',\n",
       " '638000',\n",
       " '5199934',\n",
       " '643000',\n",
       " '600000',\n",
       " '580000',\n",
       " '565000',\n",
       " '782071',\n",
       " '599000',\n",
       " '2100000',\n",
       " '465000',\n",
       " '695000',\n",
       " '967500',\n",
       " '895000',\n",
       " '400000',\n",
       " '1945000',\n",
       " '515000',\n",
       " '576500',\n",
       " '618000',\n",
       " '563250',\n",
       " '483000',\n",
       " '982500',\n",
       " '698000',\n",
       " '1220000',\n",
       " '1160000',\n",
       " '3755000',\n",
       " '17300000',\n",
       " '42400000',\n",
       " '150000000',\n",
       " '10150000',\n",
       " '10750000',\n",
       " '8818181',\n",
       " '20000000',\n",
       " '107250000',\n",
       " '10600000',\n",
       " '10500000',\n",
       " '9174156',\n",
       " '33000000',\n",
       " '139725000',\n",
       " '4300000',\n",
       " '92007576',\n",
       " '8208750',\n",
       " '60000000',\n",
       " '50350000',\n",
       " '7995000',\n",
       " '7610000',\n",
       " '7100000',\n",
       " '7214400',\n",
       " '137500',\n",
       " '5100000',\n",
       " '12250000',\n",
       " '8275000',\n",
       " '1547500',\n",
       " '3266000',\n",
       " '715000',\n",
       " '830000',\n",
       " '1270000',\n",
       " '1224000',\n",
       " '1695000',\n",
       " '522500',\n",
       " '1330000',\n",
       " '207870',\n",
       " '2570000',\n",
       " '3510000',\n",
       " '2291062',\n",
       " '150000',\n",
       " '19000000',\n",
       " '9375000',\n",
       " '4350000',\n",
       " '6780000',\n",
       " '15500000',\n",
       " '1581433',\n",
       " '1918188',\n",
       " '1739200',\n",
       " '93000',\n",
       " '1130000',\n",
       " '960000',\n",
       " '280000',\n",
       " '1305682',\n",
       " '1591427',\n",
       " '1751425',\n",
       " '1493862',\n",
       " '3403575',\n",
       " '4306445',\n",
       " '2043645',\n",
       " '23550000',\n",
       " '141500000',\n",
       " '15000000',\n",
       " '21250000',\n",
       " '691400',\n",
       " '845000',\n",
       " '389000',\n",
       " '870000',\n",
       " '650000',\n",
       " '860000',\n",
       " '879000',\n",
       " '2325000',\n",
       " '1599000',\n",
       " '988250',\n",
       " '1043706',\n",
       " '2978381',\n",
       " '5091250',\n",
       " '4571942',\n",
       " '2871465',\n",
       " '4816322',\n",
       " '2891830',\n",
       " '4398840',\n",
       " '3141301',\n",
       " '5585101',\n",
       " '3161666',\n",
       " '6567712',\n",
       " '5404385',\n",
       " '3532727',\n",
       " '5361086',\n",
       " '5753112',\n",
       " '5142162',\n",
       " '5019972',\n",
       " '3222761',\n",
       " '5600375',\n",
       " '3243126',\n",
       " '5854937',\n",
       " '5641287',\n",
       " '3718172',\n",
       " '7484137',\n",
       " '4683950',\n",
       " '3283856',\n",
       " '6262237',\n",
       " '5345812',\n",
       " '4724680',\n",
       " '3304221',\n",
       " '8858775',\n",
       " '3767525',\n",
       " '4459935',\n",
       " '8655125',\n",
       " '6250000',\n",
       " '3808255',\n",
       " '4317380',\n",
       " '8425000',\n",
       " '3848985',\n",
       " '4358110',\n",
       " '6418625',\n",
       " '4169733',\n",
       " '4449752',\n",
       " '4210463',\n",
       " '4490482',\n",
       " '5065793',\n",
       " '3716612',\n",
       " '4607581',\n",
       " '9673375',\n",
       " '6771362',\n",
       " '4444661',\n",
       " '4648311',\n",
       " '8900000',\n",
       " '6975012',\n",
       " '4638128',\n",
       " '4689041',\n",
       " '9877025',\n",
       " '7178662',\n",
       " '5391633',\n",
       " '4831596',\n",
       " '9745200',\n",
       " '7129575',\n",
       " '4566851',\n",
       " '5075976',\n",
       " '7150000',\n",
       " '4760318',\n",
       " '5116706',\n",
       " '6022948',\n",
       " '5462911',\n",
       " '12982687',\n",
       " '8146000',\n",
       " '5294900',\n",
       " '13084512',\n",
       " '13186337',\n",
       " '8527106',\n",
       " '8400000',\n",
       " '8349650',\n",
       " '6118000',\n",
       " '8563500',\n",
       " '8604212',\n",
       " '13500000',\n",
       " '8400125',\n",
       " '6313150',\n",
       " '13600000',\n",
       " '6670000',\n",
       " '19975437',\n",
       " '15843262',\n",
       " '17210250',\n",
       " '13720918',\n",
       " '18429688',\n",
       " '30000000',\n",
       " '26626267',\n",
       " '2138325',\n",
       " '3054750',\n",
       " '1790000',\n",
       " '1295000',\n",
       " '1585000',\n",
       " '6520000',\n",
       " '3475000',\n",
       " '4200000',\n",
       " '6912506',\n",
       " '7114393',\n",
       " '6873187',\n",
       " '4800000',\n",
       " '4717659',\n",
       " '2990000',\n",
       " '2860000',\n",
       " '2985000',\n",
       " '2498000',\n",
       " '2525000',\n",
       " '8100000',\n",
       " '3250000',\n",
       " '946973',\n",
       " '3195000',\n",
       " '1550000',\n",
       " '5297445',\n",
       " '6139457',\n",
       " '3309312',\n",
       " '7214083',\n",
       " '1431529',\n",
       " '1942390',\n",
       " '3682307',\n",
       " '2835020',\n",
       " '6747584',\n",
       " '5216033',\n",
       " '3936432',\n",
       " '1871799',\n",
       " '7052937',\n",
       " '4908960',\n",
       " '6849337',\n",
       " '6391080',\n",
       " '8399689',\n",
       " '6350000',\n",
       " '7207711',\n",
       " '8429428',\n",
       " '6595000',\n",
       " '5163328',\n",
       " '4939090',\n",
       " '5163139',\n",
       " '6486932',\n",
       " '6537781',\n",
       " '5366862',\n",
       " '4625000',\n",
       " '5430045',\n",
       " '4675000',\n",
       " '5650000',\n",
       " '5468836',\n",
       " '5519731',\n",
       " '5570666',\n",
       " '6792142',\n",
       " '5671655',\n",
       " '5722747',\n",
       " '5977134',\n",
       " '5824576',\n",
       " '4648335',\n",
       " '5671492',\n",
       " '5005150',\n",
       " '6257282',\n",
       " '7300851',\n",
       " '4495897',\n",
       " '2333250',\n",
       " '5055682',\n",
       " '9222591',\n",
       " '7550000',\n",
       " '6939261',\n",
       " '9221938',\n",
       " '7458313',\n",
       " '10978315',\n",
       " '6941467',\n",
       " '7358124',\n",
       " '4238965',\n",
       " '12251134',\n",
       " '7916446',\n",
       " '4828853',\n",
       " '11396706',\n",
       " '8781854',\n",
       " '4493530',\n",
       " '13983255',\n",
       " '9444375',\n",
       " '5104506',\n",
       " '14225000',\n",
       " '11401304',\n",
       " '10622233',\n",
       " '14289224',\n",
       " '11232758',\n",
       " '13576612',\n",
       " '11996348',\n",
       " '14543793',\n",
       " '11741686',\n",
       " '15053170',\n",
       " '13014468',\n",
       " '16260815',\n",
       " '13425648',\n",
       " '29082693',\n",
       " '23982850',\n",
       " '26500000',\n",
       " '21814384',\n",
       " '29075067',\n",
       " '26781101',\n",
       " '29075835',\n",
       " '47866945',\n",
       " '10725000',\n",
       " '3498000',\n",
       " '2995000',\n",
       " '2665000',\n",
       " '3150000',\n",
       " '4065000',\n",
       " '7893437',\n",
       " '3670000',\n",
       " '19031370',\n",
       " '17850000',\n",
       " '25000000',\n",
       " '11500000',\n",
       " '202560',\n",
       " '1129750',\n",
       " '432756',\n",
       " '12400000',\n",
       " '7000000',\n",
       " '11435000',\n",
       " '15093194',\n",
       " '505000',\n",
       " '345000',\n",
       " '320000',\n",
       " '885000',\n",
       " '970000',\n",
       " '651680',\n",
       " '1125000',\n",
       " '497500',\n",
       " '466000',\n",
       " '330000',\n",
       " '321000',\n",
       " '517500',\n",
       " '360000',\n",
       " '899000',\n",
       " '745000',\n",
       " '1030000',\n",
       " '1120000',\n",
       " '1095000',\n",
       " '1903000',\n",
       " '383000',\n",
       " '1590000',\n",
       " '370000',\n",
       " '325000',\n",
       " '342000',\n",
       " '381565',\n",
       " '395000',\n",
       " '1733876',\n",
       " '1353152',\n",
       " '1797618',\n",
       " '2189237',\n",
       " '1387060',\n",
       " '2128142',\n",
       " '2236071',\n",
       " '1374637',\n",
       " '1993415',\n",
       " '1397039',\n",
       " '1422291',\n",
       " '2159708',\n",
       " '2067047',\n",
       " '1435732',\n",
       " '1725147',\n",
       " '1527375',\n",
       " '2099004',\n",
       " '1486645',\n",
       " '2093929',\n",
       " '1451922',\n",
       " '1461799',\n",
       " '1511186',\n",
       " '1517192',\n",
       " '719800',\n",
       " '1610000',\n",
       " '781000',\n",
       " '1595000',\n",
       " '3719612',\n",
       " '2300000',\n",
       " '3515962',\n",
       " '10185500',\n",
       " '840056',\n",
       " '1370000',\n",
       " '1315000',\n",
       " '1490000',\n",
       " '1065000',\n",
       " '1965000',\n",
       " '1796000',\n",
       " '1499000',\n",
       " '859000',\n",
       " '597000',\n",
       " '736000',\n",
       " '1321750',\n",
       " '739000',\n",
       " '778000',\n",
       " '1038000',\n",
       " '1172750',\n",
       " '1140000',\n",
       " '767000',\n",
       " '943750',\n",
       " '1098000',\n",
       " '1740000',\n",
       " '1076000',\n",
       " '679000',\n",
       " '883000',\n",
       " '792000',\n",
       " '1462800',\n",
       " '1597750',\n",
       " '1190000',\n",
       " '1052750',\n",
       " '1420000',\n",
       " '704000',\n",
       " '1117500',\n",
       " '1212000',\n",
       " '1170000',\n",
       " '984000',\n",
       " '1867500',\n",
       " '729000',\n",
       " '911000',\n",
       " '1312000',\n",
       " '1870000',\n",
       " '1320000',\n",
       " '1652000',\n",
       " '1255607',\n",
       " '1380000',\n",
       " '877000',\n",
       " '972428',\n",
       " '966000',\n",
       " '1395000',\n",
       " '1749000',\n",
       " '1265000',\n",
       " '1997000',\n",
       " '2020000',\n",
       " '1480000',\n",
       " '940000',\n",
       " '1580000',\n",
       " '1607000',\n",
       " '3075000',\n",
       " '1192000',\n",
       " '1345000',\n",
       " '1110000',\n",
       " '1243206',\n",
       " '1780000',\n",
       " '1985587',\n",
       " '2064706',\n",
       " '2316518',\n",
       " '2674181',\n",
       " '696049',\n",
       " '544763',\n",
       " '649000',\n",
       " '617000',\n",
       " '985000',\n",
       " '1209936',\n",
       " '753300',\n",
       " '1135000',\n",
       " '500',\n",
       " '777000',\n",
       " '822665',\n",
       " '971000',\n",
       " '1053888',\n",
       " '752000',\n",
       " '1787500',\n",
       " '930000',\n",
       " '1825000',\n",
       " '1235000',\n",
       " '1007002',\n",
       " '830913',\n",
       " '998000',\n",
       " '760000',\n",
       " '1464000',\n",
       " '756001',\n",
       " '1663820',\n",
       " '1185000',\n",
       " '920000',\n",
       " '825000',\n",
       " '677060',\n",
       " '340000',\n",
       " '67734101',\n",
       " '21500000',\n",
       " '18500000',\n",
       " '23000000',\n",
       " '8010000',\n",
       " '3328500',\n",
       " '6800000',\n",
       " '13835000',\n",
       " '5292000',\n",
       " '5381394',\n",
       " '6354000',\n",
       " '12326000',\n",
       " '10025000',\n",
       " '30449204',\n",
       " '532000',\n",
       " '1107000',\n",
       " '170000',\n",
       " '145000',\n",
       " '549000',\n",
       " '619000',\n",
       " ...]"
      ]
     },
     "execution_count": 14,
     "metadata": {},
     "output_type": "execute_result"
    }
   ],
   "source": [
    "df['SALE PRICE'].unique().tolist()"
   ]
  },
  {
   "cell_type": "code",
   "execution_count": 15,
   "metadata": {},
   "outputs": [
    {
     "name": "stderr",
     "output_type": "stream",
     "text": [
      "C:\\Users\\PRIMA\\AppData\\Local\\Temp\\ipykernel_20864\\1585591324.py:1: SettingWithCopyWarning: \n",
      "A value is trying to be set on a copy of a slice from a DataFrame.\n",
      "Try using .loc[row_indexer,col_indexer] = value instead\n",
      "\n",
      "See the caveats in the documentation: https://pandas.pydata.org/pandas-docs/stable/user_guide/indexing.html#returning-a-view-versus-a-copy\n",
      "  df['SALE PRICE'] = df['SALE PRICE'].replace(' -  ', '0')\n"
     ]
    }
   ],
   "source": [
    "df['SALE PRICE'] = df['SALE PRICE'].replace(' -  ', '0')"
   ]
  },
  {
   "cell_type": "code",
   "execution_count": 16,
   "metadata": {},
   "outputs": [
    {
     "name": "stderr",
     "output_type": "stream",
     "text": [
      "C:\\Users\\PRIMA\\AppData\\Local\\Temp\\ipykernel_20864\\1846219154.py:1: SettingWithCopyWarning: \n",
      "A value is trying to be set on a copy of a slice from a DataFrame.\n",
      "Try using .loc[row_indexer,col_indexer] = value instead\n",
      "\n",
      "See the caveats in the documentation: https://pandas.pydata.org/pandas-docs/stable/user_guide/indexing.html#returning-a-view-versus-a-copy\n",
      "  df['SALE PRICE'] = df['SALE PRICE'].astype(float)\n"
     ]
    }
   ],
   "source": [
    "\n",
    "df['SALE PRICE'] = df['SALE PRICE'].astype(float)"
   ]
  },
  {
   "cell_type": "code",
   "execution_count": 17,
   "metadata": {},
   "outputs": [
    {
     "data": {
      "text/plain": [
       "count    8.454800e+04\n",
       "mean     1.056623e+06\n",
       "std      1.038794e+07\n",
       "min      0.000000e+00\n",
       "25%      0.000000e+00\n",
       "50%      4.150000e+05\n",
       "75%      8.300000e+05\n",
       "max      2.210000e+09\n",
       "Name: SALE PRICE, dtype: float64"
      ]
     },
     "execution_count": 17,
     "metadata": {},
     "output_type": "execute_result"
    }
   ],
   "source": [
    "df['SALE PRICE'].describe()"
   ]
  },
  {
   "cell_type": "code",
   "execution_count": 18,
   "metadata": {},
   "outputs": [
    {
     "name": "stdout",
     "output_type": "stream",
     "text": [
      "float64\n"
     ]
    }
   ],
   "source": [
    "print(df['SALE PRICE'].dtypes)\n"
   ]
  },
  {
   "cell_type": "code",
   "execution_count": 19,
   "metadata": {},
   "outputs": [
    {
     "name": "stdout",
     "output_type": "stream",
     "text": [
      "int64\n"
     ]
    }
   ],
   "source": [
    "print(df['YEAR BUILT'].dtypes)"
   ]
  },
  {
   "cell_type": "code",
   "execution_count": 20,
   "metadata": {},
   "outputs": [],
   "source": [
    "df = df.drop(df[df['YEAR BUILT'] == 0].index)"
   ]
  },
  {
   "cell_type": "code",
   "execution_count": 21,
   "metadata": {},
   "outputs": [
    {
     "data": {
      "text/plain": [
       "array([], shape=(0, 8), dtype=float64)"
      ]
     },
     "execution_count": 21,
     "metadata": {},
     "output_type": "execute_result"
    }
   ],
   "source": [
    "df[df['YEAR BUILT']==0].values"
   ]
  },
  {
   "cell_type": "code",
   "execution_count": 22,
   "metadata": {},
   "outputs": [],
   "source": [
    "df = df.drop(df[df['SALE PRICE'] == 0].index)"
   ]
  },
  {
   "cell_type": "code",
   "execution_count": 23,
   "metadata": {},
   "outputs": [
    {
     "data": {
      "text/plain": [
       "array([], shape=(0, 8), dtype=float64)"
      ]
     },
     "execution_count": 23,
     "metadata": {},
     "output_type": "execute_result"
    }
   ],
   "source": [
    "df[df['SALE PRICE']==0].values"
   ]
  },
  {
   "cell_type": "code",
   "execution_count": 24,
   "metadata": {},
   "outputs": [
    {
     "name": "stdout",
     "output_type": "stream",
     "text": [
      "Requirement already satisfied: scipy in c:\\users\\prima\\appdata\\local\\programs\\python\\python310\\lib\\site-packages (1.10.1)\n",
      "Requirement already satisfied: numpy<1.27.0,>=1.19.5 in c:\\users\\prima\\appdata\\local\\programs\\python\\python310\\lib\\site-packages (from scipy) (1.23.3)\n",
      "Note: you may need to restart the kernel to use updated packages.\n"
     ]
    },
    {
     "name": "stderr",
     "output_type": "stream",
     "text": [
      "\n",
      "[notice] A new release of pip is available: 23.0.1 -> 23.1.2\n",
      "[notice] To update, run: python.exe -m pip install --upgrade pip\n"
     ]
    }
   ],
   "source": [
    "pip install scipy"
   ]
  },
  {
   "cell_type": "code",
   "execution_count": 25,
   "metadata": {},
   "outputs": [],
   "source": [
    "import math\n",
    "import statistics\n",
    "import numpy as np\n",
    "import scipy.stats\n",
    "import pandas as pd"
   ]
  },
  {
   "cell_type": "code",
   "execution_count": 26,
   "metadata": {},
   "outputs": [
    {
     "name": "stdout",
     "output_type": "stream",
     "text": [
      "Mean:\n",
      " 1471885.6703637578\n",
      "\n",
      "Median:\n",
      " 620000.0\n",
      "\n",
      "Mode:\n",
      " 0    10.0\n",
      "Name: SALE PRICE, dtype: float64\n"
     ]
    }
   ],
   "source": [
    "# Menghitung central tendencies\n",
    "# Menghitung mean\n",
    "mean = df['SALE PRICE'].mean()\n",
    "\n",
    "# Menghitung median\n",
    "median = df['SALE PRICE'].median()\n",
    "\n",
    "# Menghitung mode\n",
    "mode = df['SALE PRICE'].mode()\n",
    "\n",
    "# Menampilkan hasil\n",
    "print(\"Mean:\\n\", mean)\n",
    "print(\"\\nMedian:\\n\", median)\n",
    "print(\"\\nMode:\\n\", mode)"
   ]
  },
  {
   "cell_type": "code",
   "execution_count": 27,
   "metadata": {},
   "outputs": [
    {
     "name": "stdout",
     "output_type": "stream",
     "text": [
      "Matplotlib version:  3.6.2\n"
     ]
    }
   ],
   "source": [
    "%matplotlib inline\n",
    "\n",
    "import matplotlib as mpl\n",
    "import matplotlib.pyplot as plt\n",
    "import matplotlib.patches as mpatches\n",
    "\n",
    "mpl.style.use('ggplot')\n",
    "\n",
    "print ('Matplotlib version: ', mpl.__version__)"
   ]
  },
  {
   "cell_type": "code",
   "execution_count": 28,
   "metadata": {},
   "outputs": [
    {
     "data": {
      "text/plain": [
       "YEAR BUILT\n",
       "1865    3.705000e+05\n",
       "1952    3.761141e+05\n",
       "1947    4.716787e+05\n",
       "1954    4.745579e+05\n",
       "1882    4.930000e+05\n",
       "            ...     \n",
       "1895    7.498240e+06\n",
       "1111    8.208750e+06\n",
       "1844    9.200000e+06\n",
       "1966    1.202392e+07\n",
       "1918    1.285158e+07\n",
       "Name: SALE PRICE, Length: 152, dtype: float64"
      ]
     },
     "execution_count": 28,
     "metadata": {},
     "output_type": "execute_result"
    }
   ],
   "source": [
    "df_mean = df.groupby('YEAR BUILT')['SALE PRICE'].mean().sort_values()\n",
    "df_mean"
   ]
  },
  {
   "cell_type": "code",
   "execution_count": 29,
   "metadata": {},
   "outputs": [
    {
     "data": {
      "text/plain": [
       "YEAR BUILT\n",
       "1952     230864.0\n",
       "1953     235000.0\n",
       "1947     243000.0\n",
       "1951     260000.0\n",
       "1954     262000.0\n",
       "          ...    \n",
       "1852    6375000.0\n",
       "1835    6442500.0\n",
       "1895    7100000.0\n",
       "1111    8208750.0\n",
       "1844    9200000.0\n",
       "Name: SALE PRICE, Length: 152, dtype: float64"
      ]
     },
     "execution_count": 29,
     "metadata": {},
     "output_type": "execute_result"
    }
   ],
   "source": [
    "df_median = df.groupby('YEAR BUILT')['SALE PRICE'].median().sort_values()\n",
    "df_median"
   ]
  },
  {
   "cell_type": "code",
   "execution_count": 30,
   "metadata": {},
   "outputs": [
    {
     "data": {
      "text/plain": [
       "YEAR BUILT   \n",
       "1111        0    8208750.0\n",
       "1800        0    1100000.0\n",
       "            1    1200000.0\n",
       "            2    1250000.0\n",
       "1832        0     585000.0\n",
       "                   ...    \n",
       "2013        0         10.0\n",
       "2014        0    1613926.0\n",
       "2015        0     250000.0\n",
       "2016        0     419666.0\n",
       "2017        0     870000.0\n",
       "Name: SALE PRICE, Length: 353, dtype: float64"
      ]
     },
     "execution_count": 30,
     "metadata": {},
     "output_type": "execute_result"
    }
   ],
   "source": [
    "df_mode = df.groupby('YEAR BUILT')['SALE PRICE'].apply(lambda x: x.mode())\n",
    "df_mode"
   ]
  },
  {
   "cell_type": "code",
   "execution_count": 31,
   "metadata": {},
   "outputs": [
    {
     "data": {
      "text/plain": [
       "YEAR BUILT\n",
       "1111            0.0\n",
       "1800      7020000.0\n",
       "1832            0.0\n",
       "1835      2615000.0\n",
       "1844      7400000.0\n",
       "           ...     \n",
       "2013     67734100.0\n",
       "2014    203344990.0\n",
       "2015    173999990.0\n",
       "2016     25456240.0\n",
       "2017            0.0\n",
       "Name: SALE PRICE, Length: 152, dtype: float64"
      ]
     },
     "execution_count": 31,
     "metadata": {},
     "output_type": "execute_result"
    }
   ],
   "source": [
    "df_range = df.groupby('YEAR BUILT')['SALE PRICE'].max() - df.groupby('YEAR BUILT')['SALE PRICE'].min()\n",
    "df_range"
   ]
  },
  {
   "cell_type": "code",
   "execution_count": 32,
   "metadata": {},
   "outputs": [
    {
     "data": {
      "text/plain": [
       "YEAR BUILT\n",
       "1111             NaN\n",
       "1800    1.646557e+12\n",
       "1832             NaN\n",
       "1835    3.419112e+12\n",
       "1844    2.738000e+13\n",
       "            ...     \n",
       "2013    4.037797e+13\n",
       "2014    6.245185e+13\n",
       "2015    2.839576e+13\n",
       "2016    2.039084e+12\n",
       "2017             NaN\n",
       "Name: SALE PRICE, Length: 152, dtype: float64"
      ]
     },
     "execution_count": 32,
     "metadata": {},
     "output_type": "execute_result"
    }
   ],
   "source": [
    "df_variance = df.groupby('YEAR BUILT')['SALE PRICE'].var()\n",
    "df_variance"
   ]
  },
  {
   "cell_type": "code",
   "execution_count": 33,
   "metadata": {},
   "outputs": [
    {
     "data": {
      "text/plain": [
       "YEAR BUILT\n",
       "1111             NaN\n",
       "1800    1.283183e+06\n",
       "1832             NaN\n",
       "1835    1.849084e+06\n",
       "1844    5.232590e+06\n",
       "            ...     \n",
       "2013    6.354367e+06\n",
       "2014    7.902648e+06\n",
       "2015    5.328767e+06\n",
       "2016    1.427965e+06\n",
       "2017             NaN\n",
       "Name: SALE PRICE, Length: 152, dtype: float64"
      ]
     },
     "execution_count": 33,
     "metadata": {},
     "output_type": "execute_result"
    }
   ],
   "source": [
    "df_std_dev= df.groupby('YEAR BUILT')['SALE PRICE'].std()\n",
    "df_std_dev"
   ]
  },
  {
   "cell_type": "code",
   "execution_count": 34,
   "metadata": {},
   "outputs": [],
   "source": [
    "# for inline plots in jupyter\n",
    "%matplotlib inline\n",
    "# import matplotlib\n",
    "import matplotlib.pyplot as plt\n",
    "# for latex equations\n",
    "from IPython.display import Math, Latex\n",
    "# for displaying images\n",
    "from IPython.core.display import Image"
   ]
  },
  {
   "cell_type": "code",
   "execution_count": 35,
   "metadata": {},
   "outputs": [],
   "source": [
    "# import seaborn\n",
    "import seaborn as sns\n",
    "# settings for seaborn plotting style\n",
    "sns.set(color_codes=True)\n",
    "# settings for seaborn plot sizes\n",
    "sns.set(rc={'figure.figsize':(5,5)})\n",
    "\n",
    "# settings for seaborn plot sizes\n",
    "#sns.set(rc={'figure.figsize':(4.5,3)})"
   ]
  },
  {
   "cell_type": "code",
   "execution_count": 36,
   "metadata": {},
   "outputs": [
    {
     "name": "stderr",
     "output_type": "stream",
     "text": [
      "C:\\Users\\PRIMA\\AppData\\Local\\Temp\\ipykernel_20864\\3558731953.py:1: UserWarning: \n",
      "\n",
      "`distplot` is a deprecated function and will be removed in seaborn v0.14.0.\n",
      "\n",
      "Please adapt your code to use either `displot` (a figure-level function with\n",
      "similar flexibility) or `histplot` (an axes-level function for histograms).\n",
      "\n",
      "For a guide to updating your code to use the new functions, please see\n",
      "https://gist.github.com/mwaskom/de44147ed2974457ad6372750bbe5751\n",
      "\n",
      "  unifrom_distribusion = sns.distplot(df['YEAR BUILT'],\n"
     ]
    },
    {
     "data": {
      "text/plain": [
       "[Text(0.5, 0, 'Unifrom Distribusion '), Text(0, 0.5, 'Frequency')]"
      ]
     },
     "execution_count": 36,
     "metadata": {},
     "output_type": "execute_result"
    },
    {
     "data": {
      "image/png": "[encoded data removed]",
      "text/plain": [
       "<Figure size 500x500 with 1 Axes>"
      ]
     },
     "metadata": {},
     "output_type": "display_data"
    }
   ],
   "source": [
    "unifrom_distribusion = sns.distplot(df['YEAR BUILT'],\n",
    "                  bins=1,\n",
    "                  kde=True,\n",
    "                  color='skyblue',\n",
    "                  hist_kws={\"linewidth\": 0.5,'alpha':0.5})\n",
    "unifrom_distribusion.set(xlabel='Unifrom Distribusion ', ylabel='Frequency')"
   ]
  },
  {
   "cell_type": "code",
   "execution_count": 37,
   "metadata": {},
   "outputs": [],
   "source": [
    "from scipy.stats import norm"
   ]
  },
  {
   "cell_type": "code",
   "execution_count": 38,
   "metadata": {},
   "outputs": [
    {
     "name": "stderr",
     "output_type": "stream",
     "text": [
      "C:\\Users\\PRIMA\\AppData\\Local\\Temp\\ipykernel_20864\\950996957.py:1: UserWarning: \n",
      "\n",
      "`distplot` is a deprecated function and will be removed in seaborn v0.14.0.\n",
      "\n",
      "Please adapt your code to use either `displot` (a figure-level function with\n",
      "similar flexibility) or `histplot` (an axes-level function for histograms).\n",
      "\n",
      "For a guide to updating your code to use the new functions, please see\n",
      "https://gist.github.com/mwaskom/de44147ed2974457ad6372750bbe5751\n",
      "\n",
      "  normal_distribusion = sns.distplot(df['YEAR BUILT'],\n"
     ]
    },
    {
     "data": {
      "text/plain": [
       "[Text(0.5, 0, 'Normal Distribution'), Text(0, 0.5, 'Frequency')]"
      ]
     },
     "execution_count": 38,
     "metadata": {},
     "output_type": "execute_result"
    },
    {
     "data": {
      "image/png": "[encoded data removed]",
      "text/plain": [
       "<Figure size 500x500 with 1 Axes>"
      ]
     },
     "metadata": {},
     "output_type": "display_data"
    }
   ],
   "source": [
    "normal_distribusion = sns.distplot(df['YEAR BUILT'],\n",
    "                  bins=1,\n",
    "                  kde=True,\n",
    "                  color='skyblue',\n",
    "                  hist_kws={\"linewidth\": 0.5,'alpha':0.5})\n",
    "normal_distribusion.set(xlabel='Normal Distribution', ylabel='Frequency')"
   ]
  },
  {
   "cell_type": "code",
   "execution_count": 39,
   "metadata": {},
   "outputs": [],
   "source": [
    "from scipy.stats import poisson"
   ]
  },
  {
   "cell_type": "code",
   "execution_count": 40,
   "metadata": {},
   "outputs": [
    {
     "name": "stderr",
     "output_type": "stream",
     "text": [
      "C:\\Users\\PRIMA\\AppData\\Local\\Temp\\ipykernel_20864\\876460124.py:1: UserWarning: \n",
      "\n",
      "`distplot` is a deprecated function and will be removed in seaborn v0.14.0.\n",
      "\n",
      "Please adapt your code to use either `displot` (a figure-level function with\n",
      "similar flexibility) or `histplot` (an axes-level function for histograms).\n",
      "\n",
      "For a guide to updating your code to use the new functions, please see\n",
      "https://gist.github.com/mwaskom/de44147ed2974457ad6372750bbe5751\n",
      "\n",
      "  poisson_distribution = sns.distplot(df['YEAR BUILT'],\n"
     ]
    },
    {
     "data": {
      "text/plain": [
       "[Text(0.5, 0, 'Poisson Distribution'), Text(0, 0.5, 'Frequency')]"
      ]
     },
     "execution_count": 40,
     "metadata": {},
     "output_type": "execute_result"
    },
    {
     "data": {
      "image/png": "[encoded data removed]",
      "text/plain": [
       "<Figure size 500x500 with 1 Axes>"
      ]
     },
     "metadata": {},
     "output_type": "display_data"
    }
   ],
   "source": [
    "poisson_distribution = sns.distplot(df['YEAR BUILT'],\n",
    "                  bins=30,\n",
    "                  kde=False,\n",
    "                  color='skyblue',\n",
    "                  hist_kws={\"linewidth\": 15,'alpha':1})\n",
    "poisson_distribution.set(xlabel='Poisson Distribution', ylabel='Frequency')"
   ]
  },
  {
   "cell_type": "code",
   "execution_count": 41,
   "metadata": {},
   "outputs": [],
   "source": [
    "from scipy.stats import gamma"
   ]
  },
  {
   "cell_type": "code",
   "execution_count": 42,
   "metadata": {},
   "outputs": [
    {
     "name": "stderr",
     "output_type": "stream",
     "text": [
      "C:\\Users\\PRIMA\\AppData\\Local\\Temp\\ipykernel_20864\\1045754967.py:1: UserWarning: \n",
      "\n",
      "`distplot` is a deprecated function and will be removed in seaborn v0.14.0.\n",
      "\n",
      "Please adapt your code to use either `displot` (a figure-level function with\n",
      "similar flexibility) or `histplot` (an axes-level function for histograms).\n",
      "\n",
      "For a guide to updating your code to use the new functions, please see\n",
      "https://gist.github.com/mwaskom/de44147ed2974457ad6372750bbe5751\n",
      "\n",
      "  ax = sns.distplot(df['YEAR BUILT'],\n"
     ]
    },
    {
     "data": {
      "text/plain": [
       "[Text(0.5, 0, 'Gamma Distribution'), Text(0, 0.5, 'Frequency')]"
      ]
     },
     "execution_count": 42,
     "metadata": {},
     "output_type": "execute_result"
    },
    {
     "data": {
      "image/png": "[encoded data removed]",
      "text/plain": [
       "<Figure size 500x500 with 1 Axes>"
      ]
     },
     "metadata": {},
     "output_type": "display_data"
    }
   ],
   "source": [
    "ax = sns.distplot(df['YEAR BUILT'],\n",
    "                  kde=True,\n",
    "                  bins=100,\n",
    "                  color='skyblue',\n",
    "                  hist_kws={\"linewidth\": 15,'alpha':1})\n",
    "ax.set(xlabel='Gamma Distribution', ylabel='Frequency')"
   ]
  },
  {
   "cell_type": "code",
   "execution_count": 43,
   "metadata": {},
   "outputs": [],
   "source": [
    "from scipy.stats import expon"
   ]
  },
  {
   "cell_type": "code",
   "execution_count": 44,
   "metadata": {},
   "outputs": [
    {
     "name": "stderr",
     "output_type": "stream",
     "text": [
      "C:\\Users\\PRIMA\\AppData\\Local\\Temp\\ipykernel_20864\\1952085289.py:1: UserWarning: \n",
      "\n",
      "`distplot` is a deprecated function and will be removed in seaborn v0.14.0.\n",
      "\n",
      "Please adapt your code to use either `displot` (a figure-level function with\n",
      "similar flexibility) or `histplot` (an axes-level function for histograms).\n",
      "\n",
      "For a guide to updating your code to use the new functions, please see\n",
      "https://gist.github.com/mwaskom/de44147ed2974457ad6372750bbe5751\n",
      "\n",
      "  ax = sns.distplot(df['YEAR BUILT'],\n"
     ]
    },
    {
     "data": {
      "text/plain": [
       "[Text(0.5, 0, 'Exponential Distribution'), Text(0, 0.5, 'Frequency')]"
      ]
     },
     "execution_count": 44,
     "metadata": {},
     "output_type": "execute_result"
    },
    {
     "data": {
      "image/png": "[encoded data removed]",
      "text/plain": [
       "<Figure size 500x500 with 1 Axes>"
      ]
     },
     "metadata": {},
     "output_type": "display_data"
    }
   ],
   "source": [
    "ax = sns.distplot(df['YEAR BUILT'],\n",
    "                  kde=True,\n",
    "                  bins=100,\n",
    "                  color='skyblue',\n",
    "                  hist_kws={\"linewidth\": 15,'alpha':1})\n",
    "ax.set(xlabel='Exponential Distribution', ylabel='Frequency')"
   ]
  },
  {
   "cell_type": "code",
   "execution_count": 45,
   "metadata": {},
   "outputs": [],
   "source": [
    "from scipy.stats import binom"
   ]
  },
  {
   "cell_type": "code",
   "execution_count": 46,
   "metadata": {},
   "outputs": [
    {
     "name": "stderr",
     "output_type": "stream",
     "text": [
      "C:\\Users\\PRIMA\\AppData\\Local\\Temp\\ipykernel_20864\\2862210611.py:1: UserWarning: \n",
      "\n",
      "`distplot` is a deprecated function and will be removed in seaborn v0.14.0.\n",
      "\n",
      "Please adapt your code to use either `displot` (a figure-level function with\n",
      "similar flexibility) or `histplot` (an axes-level function for histograms).\n",
      "\n",
      "For a guide to updating your code to use the new functions, please see\n",
      "https://gist.github.com/mwaskom/de44147ed2974457ad6372750bbe5751\n",
      "\n",
      "  ax = sns.distplot(df['YEAR BUILT'],\n"
     ]
    },
    {
     "data": {
      "text/plain": [
       "[Text(0.5, 0, 'Binomial Distribution'), Text(0, 0.5, 'Frequency')]"
      ]
     },
     "execution_count": 46,
     "metadata": {},
     "output_type": "execute_result"
    },
    {
     "data": {
      "image/png": "[encoded data removed]",
      "text/plain": [
       "<Figure size 500x500 with 1 Axes>"
      ]
     },
     "metadata": {},
     "output_type": "display_data"
    }
   ],
   "source": [
    "ax = sns.distplot(df['YEAR BUILT'],\n",
    "                  kde=False,\n",
    "                  color='skyblue',\n",
    "                  hist_kws={\"linewidth\": 15,'alpha':1})\n",
    "ax.set(xlabel='Binomial Distribution', ylabel='Frequency')"
   ]
  },
  {
   "cell_type": "code",
   "execution_count": 47,
   "metadata": {},
   "outputs": [],
   "source": [
    "from scipy.stats import bernoulli"
   ]
  },
  {
   "cell_type": "code",
   "execution_count": 48,
   "metadata": {},
   "outputs": [
    {
     "name": "stderr",
     "output_type": "stream",
     "text": [
      "C:\\Users\\PRIMA\\AppData\\Local\\Temp\\ipykernel_20864\\3470213006.py:1: UserWarning: \n",
      "\n",
      "`distplot` is a deprecated function and will be removed in seaborn v0.14.0.\n",
      "\n",
      "Please adapt your code to use either `displot` (a figure-level function with\n",
      "similar flexibility) or `histplot` (an axes-level function for histograms).\n",
      "\n",
      "For a guide to updating your code to use the new functions, please see\n",
      "https://gist.github.com/mwaskom/de44147ed2974457ad6372750bbe5751\n",
      "\n",
      "  ax= sns.distplot(df['YEAR BUILT'],\n"
     ]
    },
    {
     "data": {
      "text/plain": [
       "[Text(0.5, 0, 'Bernoulli Distribution'), Text(0, 0.5, 'Frequency')]"
      ]
     },
     "execution_count": 48,
     "metadata": {},
     "output_type": "execute_result"
    },
    {
     "data": {
      "image/png": "[encoded data removed]",
      "text/plain": [
       "<Figure size 500x500 with 1 Axes>"
      ]
     },
     "metadata": {},
     "output_type": "display_data"
    }
   ],
   "source": [
    "ax= sns.distplot(df['YEAR BUILT'],\n",
    "                 kde=False,\n",
    "                 color=\"skyblue\",\n",
    "                 hist_kws={\"linewidth\": 15,'alpha':1})\n",
    "ax.set(xlabel='Bernoulli Distribution', ylabel='Frequency')"
   ]
  },
  {
   "cell_type": "code",
   "execution_count": 49,
   "metadata": {},
   "outputs": [],
   "source": [
    "import pandas as pd\n",
    "import seaborn as sns\n",
    "import scipy.stats as stats\n",
    "import numpy as np\n",
    "import random\n",
    "import warnings\n",
    "import matplotlib.pyplot as plt\n",
    "%matplotlib inline\n",
    "\n",
    "sns.set(rc={'figure.figsize':(13, 7.5)})\n",
    "sns.set_context('talk')"
   ]
  },
  {
   "cell_type": "code",
   "execution_count": 50,
   "metadata": {},
   "outputs": [
    {
     "name": "stderr",
     "output_type": "stream",
     "text": [
      "C:\\Users\\PRIMA\\AppData\\Local\\Temp\\ipykernel_20864\\145557236.py:1: UserWarning: \n",
      "\n",
      "`distplot` is a deprecated function and will be removed in seaborn v0.14.0.\n",
      "\n",
      "Please adapt your code to use either `displot` (a figure-level function with\n",
      "similar flexibility) or `histplot` (an axes-level function for histograms).\n",
      "\n",
      "For a guide to updating your code to use the new functions, please see\n",
      "https://gist.github.com/mwaskom/de44147ed2974457ad6372750bbe5751\n",
      "\n",
      "  sns.distplot(df['YEAR BUILT'], color=\"darkslategrey\")\n"
     ]
    },
    {
     "data": {
      "image/png": "[encoded data removed]",
      "text/plain": [
       "<Figure size 1300x750 with 1 Axes>"
      ]
     },
     "metadata": {},
     "output_type": "display_data"
    }
   ],
   "source": [
    "sns.distplot(df['YEAR BUILT'], color=\"darkslategrey\")\n",
    "plt.xlabel(\"YEAR\", labelpad=14)\n",
    "plt.ylabel(\"probability of unit sold\", labelpad=14)\n",
    "plt.title(\"NYC Rolling Sales\", y=1.015, fontsize=20);"
   ]
  },
  {
   "cell_type": "code",
   "execution_count": 51,
   "metadata": {},
   "outputs": [
    {
     "data": {
      "text/plain": [
       "1950.805605150679"
      ]
     },
     "execution_count": 51,
     "metadata": {},
     "output_type": "execute_result"
    }
   ],
   "source": [
    "# Calculation Year built Mean\n",
    "year_build_mean = df['YEAR BUILT'].mean()\n",
    "year_build_mean"
   ]
  },
  {
   "cell_type": "code",
   "execution_count": 52,
   "metadata": {},
   "outputs": [
    {
     "data": {
      "text/plain": [
       "34.36986228651466"
      ]
     },
     "execution_count": 52,
     "metadata": {},
     "output_type": "execute_result"
    }
   ],
   "source": [
    "# Calculate year build Standard Deviation\n",
    "year_build_std_dev = df['YEAR BUILT'].std()\n",
    "year_build_std_dev"
   ]
  },
  {
   "cell_type": "code",
   "execution_count": 53,
   "metadata": {},
   "outputs": [
    {
     "name": "stdout",
     "output_type": "stream",
     "text": [
      "Note: you may need to restart the kernel to use updated packages.Requirement already satisfied: statsmodels in c:\\users\\prima\\appdata\\local\\programs\\python\\python310\\lib\\site-packages (0.14.0)\n",
      "Requirement already satisfied: patsy>=0.5.2 in c:\\users\\prima\\appdata\\local\\programs\\python\\python310\\lib\\site-packages (from statsmodels) (0.5.3)\n",
      "Requirement already satisfied: packaging>=21.3 in c:\\users\\prima\\appdata\\roaming\\python\\python310\\site-packages (from statsmodels) (21.3)\n",
      "Requirement already satisfied: pandas>=1.0 in c:\\users\\prima\\appdata\\local\\programs\\python\\python310\\lib\\site-packages (from statsmodels) (1.5.1)\n",
      "Requirement already satisfied: scipy!=1.9.2,>=1.4 in c:\\users\\prima\\appdata\\local\\programs\\python\\python310\\lib\\site-packages (from statsmodels) (1.10.1)\n",
      "Requirement already satisfied: numpy>=1.18 in c:\\users\\prima\\appdata\\local\\programs\\python\\python310\\lib\\site-packages (from statsmodels) (1.23.3)\n",
      "Requirement already satisfied: pyparsing!=3.0.5,>=2.0.2 in c:\\users\\prima\\appdata\\roaming\\python\\python310\\site-packages (from packaging>=21.3->statsmodels) (3.0.9)\n",
      "Requirement already satisfied: pytz>=2020.1 in c:\\users\\prima\\appdata\\local\\programs\\python\\python310\\lib\\site-packages (from pandas>=1.0->statsmodels) (2022.5)\n",
      "Requirement already satisfied: python-dateutil>=2.8.1 in c:\\users\\prima\\appdata\\roaming\\python\\python310\\site-packages (from pandas>=1.0->statsmodels) (2.8.2)\n",
      "Requirement already satisfied: six in c:\\users\\prima\\appdata\\roaming\\python\\python310\\site-packages (from patsy>=0.5.2->statsmodels) (1.16.0)\n",
      "\n"
     ]
    },
    {
     "name": "stderr",
     "output_type": "stream",
     "text": [
      "\n",
      "[notice] A new release of pip is available: 23.0.1 -> 23.1.2\n",
      "[notice] To update, run: python.exe -m pip install --upgrade pip\n"
     ]
    }
   ],
   "source": [
    "pip install statsmodels "
   ]
  },
  {
   "cell_type": "code",
   "execution_count": 54,
   "metadata": {},
   "outputs": [],
   "source": [
    "import statsmodels.api as sm\n",
    "import numpy as np\n",
    "import matplotlib.pyplot as plt\n",
    "import pandas as pd"
   ]
  },
  {
   "cell_type": "code",
   "execution_count": 55,
   "metadata": {},
   "outputs": [],
   "source": [
    "year_1 = df[df[\"YEAR BUILT\"] == 1900]\n",
    "year_2 = df[df[\"YEAR BUILT\"] == 2000]"
   ]
  },
  {
   "cell_type": "code",
   "execution_count": 56,
   "metadata": {},
   "outputs": [
    {
     "data": {
      "text/plain": [
       "(843, 3476108.5895610913, 9385750.946539737)"
      ]
     },
     "execution_count": 56,
     "metadata": {},
     "output_type": "execute_result"
    }
   ],
   "source": [
    "n1 = len(year_1)\n",
    "mu1 = year_1[\"SALE PRICE\"].mean()\n",
    "sd1 = year_1[\"SALE PRICE\"].std()\n",
    "\n",
    "(n1, mu1, sd1)"
   ]
  },
  {
   "cell_type": "code",
   "execution_count": 57,
   "metadata": {},
   "outputs": [
    {
     "data": {
      "text/plain": [
       "(144, 1379998.2222222222, 3537008.9134944803)"
      ]
     },
     "execution_count": 57,
     "metadata": {},
     "output_type": "execute_result"
    }
   ],
   "source": [
    "n2 = len(year_2)\n",
    "mu2 = year_2[\"SALE PRICE\"].mean()\n",
    "sd2 = year_2[\"SALE PRICE\"].std()\n",
    "\n",
    "(n2, mu2, sd2)"
   ]
  },
  {
   "cell_type": "code",
   "execution_count": 58,
   "metadata": {},
   "outputs": [
    {
     "data": {
      "text/plain": [
       "(2.6470884175501532, 0.008118812242476927)"
      ]
     },
     "execution_count": 58,
     "metadata": {},
     "output_type": "execute_result"
    }
   ],
   "source": [
    "sm.stats.ztest(year_1[\"SALE PRICE\"].dropna(), year_2[\"SALE PRICE\"].dropna(),alternative='two-sided')"
   ]
  },
  {
   "cell_type": "code",
   "execution_count": 59,
   "metadata": {},
   "outputs": [
    {
     "data": {
      "image/png": "[encoded data removed]",
      "text/plain": [
       "<Figure size 700x400 with 1 Axes>"
      ]
     },
     "metadata": {},
     "output_type": "display_data"
    },
    {
     "data": {
      "image/png": "[encoded data removed]",
      "text/plain": [
       "<Figure size 700x400 with 1 Axes>"
      ]
     },
     "metadata": {},
     "output_type": "display_data"
    }
   ],
   "source": [
    "plt.figure(figsize=(7,4))\n",
    "plt.title(\"1900 Year histogram\",fontsize=16)\n",
    "plt.hist(year_1[\"SALE PRICE\"].dropna(),edgecolor='k',color='pink',bins=25)\n",
    "plt.show()\n",
    "\n",
    "plt.figure(figsize=(7,4))\n",
    "plt.title(\"2000 Year histogram\",fontsize=16)\n",
    "plt.hist(year_2[\"SALE PRICE\"].dropna(),edgecolor='k',color='blue',bins=25)\n",
    "plt.show()"
   ]
  },
  {
   "cell_type": "code",
   "execution_count": 60,
   "metadata": {},
   "outputs": [],
   "source": [
    "import pandas as pd\n",
    "import numpy as np\n",
    "import statsmodels.api as sm\n",
    "import scipy.stats.distributions as dist"
   ]
  },
  {
   "attachments": {},
   "cell_type": "markdown",
   "metadata": {},
   "source": [
    "Berikut merupakan hipotesis penjualan tahun 1900 di NYC\n",
    "\n",
    "Ho: p0 = 0.013  #null hypothesis\n",
    "\n",
    "Ha: p > 0.013   #alternative hypothesis"
   ]
  },
  {
   "cell_type": "code",
   "execution_count": 93,
   "metadata": {},
   "outputs": [
    {
     "data": {
      "text/plain": [
       "0.015203159660228317"
      ]
     },
     "execution_count": 93,
     "metadata": {},
     "output_type": "execute_result"
    }
   ],
   "source": [
    "y_us = len(df[df['YEAR BUILT']==1900])/len(df)\n",
    "y_us"
   ]
  },
  {
   "attachments": {},
   "cell_type": "markdown",
   "metadata": {},
   "source": [
    "Population proportion penjualan pada tahun 1900 adalah 0.015 atau 1.5%. Persentase ini lebih dari null hypothesis, yaitu 1.3%.\n",
    "\n",
    "Tetapi pertanyaannya adalah apakah secara signifikan lebih dari 1.3%. Jika kita mengambil sampel acak yang berbeda, proporsi populasi yang diamati saat ini (1.5%) bisa berbeda.\n",
    "\n",
    "Untuk mengetahui apakah population proportion yang diamati secara signifikan lebih dari null hypothesis, berikut akan dilakukan hypothesis test."
   ]
  },
  {
   "cell_type": "code",
   "execution_count": 96,
   "metadata": {},
   "outputs": [
    {
     "data": {
      "text/plain": [
       "0.00045163172695661066"
      ]
     },
     "execution_count": 96,
     "metadata": {},
     "output_type": "execute_result"
    }
   ],
   "source": [
    "se = np.sqrt(0.013 * (1-0.13) / len(df))\n",
    "se "
   ]
  },
  {
   "cell_type": "code",
   "execution_count": 97,
   "metadata": {},
   "outputs": [
    {
     "data": {
      "text/plain": [
       "4.87822163220163"
      ]
     },
     "execution_count": 97,
     "metadata": {},
     "output_type": "execute_result"
    }
   ],
   "source": [
    "#Best estimate\n",
    "be = y_us\n",
    "\n",
    "#hypothesized estimate\n",
    "he = 0.013\n",
    "test_stat = (be - he)/se\n",
    "test_stat"
   ]
  },
  {
   "attachments": {},
   "cell_type": "markdown",
   "metadata": {},
   "source": [
    "Hasil test statistics adalah 4.878."
   ]
  },
  {
   "cell_type": "code",
   "execution_count": 98,
   "metadata": {},
   "outputs": [
    {
     "name": "stdout",
     "output_type": "stream",
     "text": [
      "1.0704660305180483e-06\n"
     ]
    }
   ],
   "source": [
    "pvalue = 2*dist.norm.cdf(-np.abs(test_stat))\n",
    "print(pvalue)"
   ]
  },
  {
   "attachments": {},
   "cell_type": "markdown",
   "metadata": {},
   "source": [
    "**p-value adalah 1.0704660305180483e-06.**\n",
    "\n",
    "Pertimbangkan significance level alpha adalah 5% atau 0.05. Tingkat signifikansi 5% atau kurang berarti ada kemungkinan 95% atau lebih besar bahwa hasilnya tidak acak.\n",
    "\n",
    "Di sini p-value lebih rendah dari significance level yang kita tentukan yaitu 0.05. Jadi, kita reject the null hypothesis. Artinya, terdapat perbedaan yang signifikan dalam penjualan dari tahun ke tahun di NYC"
   ]
  },
  {
   "cell_type": "code",
   "execution_count": 105,
   "metadata": {},
   "outputs": [
    {
     "name": "stdout",
     "output_type": "stream",
     "text": [
      "stat=0.037, p=0.000\n",
      "Probably not Gaussian\n"
     ]
    }
   ],
   "source": [
    "# the Shapiro-Wilk Normality Test\n",
    "\n",
    "from scipy.stats import shapiro\n",
    "data = df['SALE PRICE']\n",
    "stat, p = shapiro(data)\n",
    "print('stat=%.3f, p=%.3f' % (stat, p))\n",
    "if p > 0.05:\n",
    "    print('Probably Gaussian')\n",
    "else:\n",
    "    print('Probably not Gaussian')"
   ]
  },
  {
   "cell_type": "code",
   "execution_count": 106,
   "metadata": {},
   "outputs": [
    {
     "name": "stdout",
     "output_type": "stream",
     "text": [
      "stat=230880.946, p=0.000\n",
      "Probably not Gaussian\n"
     ]
    }
   ],
   "source": [
    "# the D'Agostino's K^2 Normality Test\n",
    "from scipy.stats import normaltest\n",
    "data = df['SALE PRICE']\n",
    "stat, p = normaltest(data)\n",
    "print('stat=%.3f, p=%.3f' % (stat, p))\n",
    "if p > 0.05:\n",
    "    print('Probably Gaussian')\n",
    "else:\n",
    "    print('Probably not Gaussian')"
   ]
  },
  {
   "cell_type": "code",
   "execution_count": 107,
   "metadata": {},
   "outputs": [
    {
     "name": "stdout",
     "output_type": "stream",
     "text": [
      "stat=17504.810\n",
      "Probably not Gaussian at the 15.0% level\n",
      "Probably not Gaussian at the 10.0% level\n",
      "Probably not Gaussian at the 5.0% level\n",
      "Probably not Gaussian at the 2.5% level\n",
      "Probably not Gaussian at the 1.0% level\n"
     ]
    }
   ],
   "source": [
    "# the Anderson-Darling Normality Test\n",
    "from scipy.stats import anderson\n",
    "data = df['SALE PRICE']\n",
    "result = anderson(data)\n",
    "print('stat=%.3f' % (result.statistic))\n",
    "for i in range(len(result.critical_values)):\n",
    "    sl, cv = result.significance_level[i], result.critical_values[i]\n",
    "    if result.statistic < cv:\n",
    "        print('Probably Gaussian at the %.1f%% level' % (sl))\n",
    "    else:\n",
    "        print('Probably not Gaussian at the %.1f%% level' % (sl))"
   ]
  },
  {
   "cell_type": "code",
   "execution_count": 109,
   "metadata": {},
   "outputs": [
    {
     "name": "stdout",
     "output_type": "stream",
     "text": [
      "stat=1.000, p=0.000\n",
      "Probably dependent\n"
     ]
    }
   ],
   "source": [
    "# the Pearson's Correlation test\n",
    "from scipy.stats import pearsonr\n",
    "data1 = df['SALE PRICE']\n",
    "data2 = df['SALE PRICE']\n",
    "stat, p = pearsonr(data1, data2)\n",
    "print('stat=%.3f, p=%.3f' % (stat, p))\n",
    "if p > 0.05:\n",
    "    print('Probably independent')\n",
    "else:\n",
    "    print('Probably dependent')"
   ]
  },
  {
   "cell_type": "code",
   "execution_count": 110,
   "metadata": {},
   "outputs": [
    {
     "name": "stdout",
     "output_type": "stream",
     "text": [
      "stat=1.000, p=0.000\n",
      "Probably dependent\n"
     ]
    }
   ],
   "source": [
    "# the Spearman's Rank Correlation Test\n",
    "from scipy.stats import spearmanr\n",
    "data1 = df['SALE PRICE']\n",
    "data2 = df['SALE PRICE']\n",
    "stat, p = spearmanr(data1, data2)\n",
    "print('stat=%.3f, p=%.3f' % (stat, p))\n",
    "if p > 0.05:\n",
    "    print('Probably independent')\n",
    "else:\n",
    "    print('Probably dependent')"
   ]
  },
  {
   "cell_type": "code",
   "execution_count": 111,
   "metadata": {},
   "outputs": [
    {
     "name": "stdout",
     "output_type": "stream",
     "text": [
      "stat=1.000, p=0.000\n",
      "Probably dependent\n"
     ]
    }
   ],
   "source": [
    "# the Kendall's Rank Correlation Test\n",
    "from scipy.stats import kendalltau\n",
    "data1 = df['SALE PRICE']\n",
    "data2 = df['SALE PRICE']\n",
    "stat, p = kendalltau(data1, data2)\n",
    "print('stat=%.3f, p=%.3f' % (stat, p))\n",
    "if p > 0.05:\n",
    "    print('Probably independent')\n",
    "else:\n",
    "    print('Probably dependent')"
   ]
  },
  {
   "cell_type": "code",
   "execution_count": 112,
   "metadata": {},
   "outputs": [
    {
     "name": "stdout",
     "output_type": "stream",
     "text": [
      "stat=0.000, p=1.000\n",
      "Probably independent\n"
     ]
    }
   ],
   "source": [
    "# the Chi-Squared Test\n",
    "from scipy.stats import chi2_contingency\n",
    "table = df['SALE PRICE']\n",
    "stat, p, dof, expected = chi2_contingency(table)\n",
    "print('stat=%.3f, p=%.3f' % (stat, p))\n",
    "if p > 0.05:\n",
    "    print('Probably independent')\n",
    "else:\n",
    "    print('Probably dependent')"
   ]
  },
  {
   "cell_type": "code",
   "execution_count": 113,
   "metadata": {},
   "outputs": [
    {
     "name": "stdout",
     "output_type": "stream",
     "text": [
      "stat=-28.802, p=0.000\n",
      "Probably Stationary\n"
     ]
    }
   ],
   "source": [
    "# the Augmented Dickey-Fuller unit root test\n",
    "from statsmodels.tsa.stattools import adfuller\n",
    "data = df['SALE PRICE']\n",
    "stat, p, lags, obs, crit, t = adfuller(data)\n",
    "print('stat=%.3f, p=%.3f' % (stat, p))\n",
    "if p > 0.05:\n",
    "    print('Probably not Stationary')\n",
    "else:\n",
    "    print('Probably Stationary')"
   ]
  },
  {
   "cell_type": "code",
   "execution_count": 114,
   "metadata": {},
   "outputs": [
    {
     "name": "stdout",
     "output_type": "stream",
     "text": [
      "stat=9.011, p=0.010\n",
      "Probably Stationary\n"
     ]
    },
    {
     "name": "stderr",
     "output_type": "stream",
     "text": [
      "C:\\Users\\PRIMA\\AppData\\Local\\Temp\\ipykernel_20864\\3112818271.py:4: InterpolationWarning: The test statistic is outside of the range of p-values available in the\n",
      "look-up table. The actual p-value is smaller than the p-value returned.\n",
      "\n",
      "  stat, p, lags, crit = kpss(data)\n"
     ]
    }
   ],
   "source": [
    "# the Kwiatkowski-Phillips-Schmidt-Shin test\n",
    "from statsmodels.tsa.stattools import kpss\n",
    "data = df['SALE PRICE']\n",
    "stat, p, lags, crit = kpss(data)\n",
    "print('stat=%.3f, p=%.3f' % (stat, p))\n",
    "if p > 0.05:\n",
    "    print('Probably not Stationary')\n",
    "else:\n",
    "    print('Probably Stationary')"
   ]
  },
  {
   "cell_type": "code",
   "execution_count": 115,
   "metadata": {},
   "outputs": [
    {
     "name": "stdout",
     "output_type": "stream",
     "text": [
      "stat=0.000, p=1.000\n",
      "Probably the same distribution\n"
     ]
    }
   ],
   "source": [
    "# the Student's t-test\n",
    "from scipy.stats import ttest_ind\n",
    "data1 = df['SALE PRICE']\n",
    "data2 = df['SALE PRICE']\n",
    "stat, p = ttest_ind(data1, data2)\n",
    "print('stat=%.3f, p=%.3f' % (stat, p))\n",
    "if p > 0.05:\n",
    "    print('Probably the same distribution')\n",
    "else:\n",
    "    print('Probably different distributions')"
   ]
  },
  {
   "cell_type": "code",
   "execution_count": 116,
   "metadata": {},
   "outputs": [
    {
     "name": "stdout",
     "output_type": "stream",
     "text": [
      "stat=nan, p=nan\n",
      "Probably different distributions\n"
     ]
    }
   ],
   "source": [
    "# the Paired Student's t-test\n",
    "from scipy.stats import ttest_rel\n",
    "data1 = df['SALE PRICE']\n",
    "data2 = df['SALE PRICE']\n",
    "stat, p = ttest_rel(data1, data2)\n",
    "print('stat=%.3f, p=%.3f' % (stat, p))\n",
    "if p > 0.05:\n",
    "    print('Probably the same distribution')\n",
    "else:\n",
    "    print('Probably different distributions')"
   ]
  },
  {
   "cell_type": "code",
   "execution_count": 117,
   "metadata": {},
   "outputs": [
    {
     "name": "stdout",
     "output_type": "stream",
     "text": [
      "stat=-0.000, p=nan\n",
      "Probably different distributions\n"
     ]
    }
   ],
   "source": [
    "# the Analysis of Variance Test\n",
    "from scipy.stats import f_oneway\n",
    "data1 = df['SALE PRICE']\n",
    "data2 = df['SALE PRICE']\n",
    "data3 = df['SALE PRICE']\n",
    "stat, p = f_oneway(data1, data2, data3)\n",
    "print('stat=%.3f, p=%.3f' % (stat, p))\n",
    "if p > 0.05:\n",
    "    print('Probably the same distribution')\n",
    "else:\n",
    "    print('Probably different distributions')"
   ]
  },
  {
   "cell_type": "code",
   "execution_count": 118,
   "metadata": {},
   "outputs": [
    {
     "name": "stdout",
     "output_type": "stream",
     "text": [
      "stat=1537295800.500, p=1.000\n",
      "Probably the same distribution\n"
     ]
    }
   ],
   "source": [
    "# the Mann-Whitney U Test\n",
    "from scipy.stats import mannwhitneyu\n",
    "data1 = df['SALE PRICE']\n",
    "data2 = df['SALE PRICE']\n",
    "stat, p = mannwhitneyu(data1, data2)\n",
    "print('stat=%.3f, p=%.3f' % (stat, p))\n",
    "if p > 0.05:\n",
    "    print('Probably the same distribution')\n",
    "else:\n",
    "    print('Probably different distributions')"
   ]
  },
  {
   "cell_type": "code",
   "execution_count": 124,
   "metadata": {},
   "outputs": [
    {
     "name": "stdout",
     "output_type": "stream",
     "text": [
      "stat=0.000, p=1.000\n",
      "Probably the same distribution\n"
     ]
    }
   ],
   "source": [
    "# the Kruskal-Wallis H Test\n",
    "from scipy.stats import kruskal\n",
    "data1 = df['SALE PRICE']\n",
    "data2 = df['SALE PRICE']\n",
    "stat, p = kruskal(data1, data2)\n",
    "print('stat=%.3f, p=%.3f' % (stat, p))\n",
    "if p > 0.05:\n",
    "    print('Probably the same distribution')\n",
    "else:\n",
    "    print('Probably different distributions')"
   ]
  },
  {
   "cell_type": "code",
   "execution_count": 125,
   "metadata": {},
   "outputs": [
    {
     "name": "stdout",
     "output_type": "stream",
     "text": [
      "stat=nan, p=nan\n",
      "Probably different distributions\n"
     ]
    },
    {
     "name": "stderr",
     "output_type": "stream",
     "text": [
      "c:\\Users\\PRIMA\\AppData\\Local\\Programs\\Python\\Python310\\lib\\site-packages\\scipy\\stats\\_stats_py.py:8696: RuntimeWarning: invalid value encountered in double_scalars\n",
      "  chisq = (12.0 / (k*n*(k+1)) * ssbn - 3*n*(k+1)) / c\n"
     ]
    }
   ],
   "source": [
    "# the Friedman Test\n",
    "from scipy.stats import friedmanchisquare\n",
    "data1 = df['SALE PRICE']\n",
    "data2 = df['SALE PRICE']\n",
    "data3 = df['SALE PRICE']\n",
    "stat, p = friedmanchisquare(data1, data2, data3)\n",
    "print('stat=%.3f, p=%.3f' % (stat, p))\n",
    "if p > 0.05:\n",
    "    print('Probably the same distribution')\n",
    "else:\n",
    "    print('Probably different distributions')"
   ]
  }
 ],
 "metadata": {
  "kernelspec": {
   "display_name": "Python 3",
   "language": "python",
   "name": "python3"
  },
  "language_info": {
   "codemirror_mode": {
    "name": "ipython",
    "version": 3
   },
   "file_extension": ".py",
   "mimetype": "text/x-python",
   "name": "python",
   "nbconvert_exporter": "python",
   "pygments_lexer": "ipython3",
   "version": "3.10.0"
  },
  "orig_nbformat": 4
 },
 "nbformat": 4,
 "nbformat_minor": 2
}
